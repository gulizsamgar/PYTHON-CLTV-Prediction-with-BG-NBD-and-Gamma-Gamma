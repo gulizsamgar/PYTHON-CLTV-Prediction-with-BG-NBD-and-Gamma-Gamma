{
  "nbformat": 4,
  "nbformat_minor": 0,
  "metadata": {
    "colab": {
      "provenance": [],
      "authorship_tag": "ABX9TyPe/osHr7TBJ+Vex9M1M/Dy",
      "include_colab_link": true
    },
    "kernelspec": {
      "name": "python3",
      "display_name": "Python 3"
    },
    "language_info": {
      "name": "python"
    }
  },
  "cells": [
    {
      "cell_type": "markdown",
      "metadata": {
        "id": "view-in-github",
        "colab_type": "text"
      },
      "source": [
        "<a href=\"https://colab.research.google.com/github/gulizsamgar/PYTHON-CLTV-Prediction-with-BG-NBD-and-Gamma-Gamma/blob/main/FLO_CLTV_Prediction.ipynb\" target=\"_parent\"><img src=\"https://colab.research.google.com/assets/colab-badge.svg\" alt=\"Open In Colab\"/></a>"
      ]
    },
    {
      "cell_type": "markdown",
      "source": [
        "# **BG-NBD ve Gamma-Gamma ile CLTV Tahmini**"
      ],
      "metadata": {
        "id": "xIlqg63zKPFB"
      }
    },
    {
      "cell_type": "markdown",
      "metadata": {
        "id": "dc1ac292"
      },
      "source": [
        "* * *\n",
        "\n",
        "*Proje Yazarı: Güliz Samğar*\n",
        "\n",
        "*Son Güncelleme Tarihi: 19 Ağustos 2025*\n",
        "\n",
        "* * *"
      ]
    },
    {
      "cell_type": "markdown",
      "metadata": {
        "id": "52b4cf63"
      },
      "source": [
        "**Proje Genel Bakış**\n",
        "\n",
        "FLO, satış ve pazarlama faaliyetleri için stratejik bir yol haritası belirlemek istemektedir. Şirketin orta ve uzun vadeli planlarını yapabilmesi amacıyla, mevcut müşterilerin gelecekte şirkete sağlayacakları potansiyel değerin (Müşteri Yaşam Boyu Değeri - CLTV) tahmin edilmesi gerekmektedir. Bu proje kapsamında, FLO’nun 20.000 müşteriden oluşan veri seti üzerinde bu tahminler gerçekleştirilecektir.\n",
        "\n",
        "Çalışmanın amacı, müşterilerin geçmiş alışveriş davranışlarını yansıtan RFM metriklerini (Recency, Frequency, Monetary) kullanarak gelecekteki değerlerini (CLTV) tahmin etmek, bu tahmine dayanarak müşteri segmentasyonu yapmak ve hedef pazarlama stratejileri oluşturmaktır. FLO, tahmini CLTV değerlerine göre müşterilerini segmentlere ayırıp bu segmentlere özel pazarlama stratejileri belirlemek istiyor. Buna yönelik olarak, müşterilerin geçmiş davranışlarından elde edilen RFM metrikleri CLTV modelleri için girdi olarak kullanılacak ve bu modellerle hesaplanan CLTV değerlerine göre gruplar oluşturulacaktır.\n",
        "\n",
        "Proje Adımları:\n",
        "\n",
        "1.  **Veriyi Tanıma ve Hazırlama:** Veri setinin yüklenmesi, genel bilgilerin incelenmesi, eksik değer kontrolü ve yeni değişkenlerin (toplam sipariş, toplam harcama) oluşturulması.\n",
        "2.  **CLTV Metriklerinin Hesaplanması:** Recency (İlk ve son sipariş arasındaki süre), T (İlk sipariş ve analiz tarihi arasındaki süre), Frequency (Toplam sipariş sayısı) ve Monetary (Ortalama işlem değeri) gibi CLTV metriklerinin hesaplanması.\n",
        "3.  **BG/NBD Modeli ile Gelecek Satın Alma Sayısı Tahmini:** Müşterilerin gelecekte belirli bir zaman diliminde yapması beklenen satın alma sayısının BG/NBD modeli kullanılarak tahmin edilmesi.\n",
        "4.  **Gamma-Gamma Modeli ile Ortalama İşlem Değeri Tahmini:** Müşterilerin gelecekteki her bir işleminde harcaması beklenen ortalama değerin Gamma-Gamma modeli kullanılarak tahmin edilmesi.\n",
        "5.  **CLTV Hesaplama:** BG/NBD ve Gamma-Gamma modellerinin çıktıları birleştirilerek her müşterinin belirli bir zaman dilimi (örneğin 6 ay) için Müşteri Yaşam Boyu Değeri'nin (CLTV) hesaplanması.\n",
        "6.  **CLTV'ye Göre Segmentlerin Oluşturulması:** Hesaplanan CLTV değerlerine dayanarak müşterilerin farklı segmentlere ayrılması (örneğin A, B, C, D gibi).\n",
        "7.  **Eyleme Dönüştürülebilir İçgörüler:** Oluşturulan CLTV segmentlerinin özelliklerinin incelenmesi ve her bir segmente yönelik özelleştirilmiş pazarlama ve müşteri ilişkileri yönetimi stratejilerinin belirlenmesi.\n",
        "8.  **BONUS: Tüm Süreci Fonksiyonlaştırma:** CLTV hesaplama ve segmentasyon adımlarının tekrar kullanılabilir bir fonksiyon içine alınması.\n",
        "\n",
        "Bu analiz sonucunda elde edilen müşteri segmentleri ve CLTV tahminleri, FLO'nun pazarlama faaliyetlerini daha etkili ve kişiselleştirilmiş hale getirmesine, kaynakları daha verimli kullanmasına ve orta/uzun vadeli stratejik planlamasına yardımcı olacaktır."
      ]
    },
    {
      "cell_type": "markdown",
      "metadata": {
        "id": "-oXmCiWFheS7"
      },
      "source": [
        "Bu projede kullanılan veri setine [Github'dan](https://github.com/gulizsamgar/PYTHON-CLTV-Prediction-with-BG-NBD-and-Gamma-Gamma/blob/4498a795dfa20ef22fd5c717161cde886ee6bc5e/dataset/flo_data_20k.csv) ulaşabilirsiniz.\n",
        "\n",
        "> *Veri setimizle çalışmaya hazırız. Haydi başlayalım!*\n",
        "\n"
      ]
    },
    {
      "cell_type": "markdown",
      "source": [
        "***"
      ],
      "metadata": {
        "id": "lOoeyHo_rEVk"
      }
    },
    {
      "cell_type": "markdown",
      "source": [
        "**Kütüphanelerin İçe Aktarılması ve Görüntü Ayarları**"
      ],
      "metadata": {
        "id": "VsCFroD2U6FO"
      }
    },
    {
      "cell_type": "markdown",
      "source": [
        "Bu bölüm, veri analizi için gerekli kütüphaneleri içe aktarır ve pandas görüntü ayarlarını yapılandırır."
      ],
      "metadata": {
        "id": "VvrIZ73A_5Cl"
      }
    },
    {
      "cell_type": "code",
      "metadata": {
        "id": "7251a03b",
        "collapsed": true,
        "colab": {
          "base_uri": "https://localhost:8080/"
        },
        "outputId": "ac0cfc03-cf30-451b-aaba-733e194db54e"
      },
      "source": [
        "from google.colab import drive\n",
        "drive.mount('/content/drive')"
      ],
      "execution_count": null,
      "outputs": [
        {
          "output_type": "stream",
          "name": "stdout",
          "text": [
            "Mounted at /content/drive\n"
          ]
        }
      ]
    },
    {
      "cell_type": "code",
      "metadata": {
        "id": "a7aed0e2"
      },
      "source": [
        "# lifetimes kütüphanesini yükle\n",
        "!pip install lifetimes"
      ],
      "execution_count": null,
      "outputs": []
    },
    {
      "cell_type": "code",
      "source": [
        "# Gerekli kütüphaneleri import et\n",
        "\n",
        "import pandas as pd\n",
        "import datetime as dt\n",
        "from lifetimes import BetaGeoFitter, GammaGammaFitter\n",
        "from sklearn.preprocessing import MinMaxScaler\n",
        "\n",
        "# Pandas gösterim ayarlarını yapılandır\n",
        "pd.set_option('display.max_columns', None)\n",
        "pd.set_option('display.max_rows', None)\n",
        "pd.set_option('display.float_format', lambda x: '%.2f' % x)\n",
        "pd.options.mode.chained_assignment = None"
      ],
      "metadata": {
        "id": "6V-elUOKO8r4"
      },
      "execution_count": null,
      "outputs": []
    },
    {
      "cell_type": "markdown",
      "metadata": {
        "id": "84cb4693"
      },
      "source": [
        "Yukarıdaki kod bloğu, veri analizi ve CLTV (Customer Lifetime Value) tahmini için gerekli olan Python kütüphanelerini çalışma ortamına dahil eder ve veri görselleştirmesini kolaylaştırmak amacıyla pandas kütüphanesinin görüntüleme seçeneklerini ayarlar.\n",
        "\n",
        "**İçe Aktarılan Kütüphaneler:**\n",
        "\n",
        "*   `import pandas as pd`: Veri manipülasyonu ve analizi için güçlü bir kütüphane olan pandas'ı içe aktarır ve yaygın olarak kullanılan `pd` alias'ı ile kullanılmasını sağlar.\n",
        "*   `import datetime as dt`: Tarih ve saat verileriyle çalışmak için gerekli fonksiyonları sağlar. Bu projede müşteri sipariş tarihlerini işlemek için kullanılacaktır.\n",
        "*   `from lifetimes import BetaGeoFitter, GammaGammaFitter`: CLTV tahmini için BG-NBD (Beta-Geometric Negative Binomial Distribution) ve Gamma-Gamma modellerini içeren `lifetimes` kütüphanesinden ilgili sınıfları içe aktarır. Bu modeller, müşteri yaşam boyu değerini tahmin etmek için kullanılır.\n",
        "*   `from sklearn.preprocessing import MinMaxScaler`: scikit-learn kütüphanesinden `MinMaxScaler` sınıfını içe aktarır. Bu sınıf, veri setindeki sayısal sütunları belirli bir aralığa (genellikle 0 ile 1 arasına) ölçeklendirmek için kullanılır. Bu, bazı makine öğrenimi algoritmaları veya modelleme adımları için faydalı olabilir.\n",
        "\n",
        "**Pandas Görüntü Ayarları:**\n",
        "\n",
        "*   `pd.set_option('display.max_columns', None)`: Pandas DataFrame'leri yazdırılırken sütun sayısının sınırlanmamasını sağlar. Bu sayede, tüm sütunlar görüntülenebilir ve veri setindeki tüm değişkenler tek bir çıktıda incelenebilir.\n",
        "*   `pd.set_option('display.max_rows', None)`: Pandas DataFrame'leri yazdırılırken satır sayısının sınırlanmamasını sağlar. Bu, büyük veri setlerinde bile tüm gözlemlerin görüntülenmesine olanak tanır.\n",
        "*   `pd.set_option('display.float_format', lambda x: '%.2f' % x)`: Pandas DataFrame'lerindeki ondalık sayıların (float) virgülden sonra yalnızca iki basamak kullanılarak biçimlendirilmesini sağlar. Bu, özellikle parasal değerler gibi ondalık verilerin daha düzenli ve okunabilir görünmesini sağlar.\n",
        "*   `pd.options.mode.chained_assignment = None`: Pandas'ta zincirleme atama (chained assignment) ile ilgili potansiyel uyarıları kapatır. Zincirleme atama, DataFrame'in bir görünümüne (view) veya kopyasına (copy) veri ataması yapmaya çalışıldığında ortaya çıkabilir ve beklenen sonucu vermeyebilir. Bu ayarın `None` olarak ayarlanması, bu tür durumlarda pandas'ın uyarı vermesini engeller. Ancak bu ayar kullanılırken dikkatli olunmalıdır, çünkü kapatılan uyarılar önemli potansiyel hataları gösterebilir.\n",
        "\n",
        "Bu ayarlar ve kütüphanelerin içe aktarılması, projenin ilerleyen adımlarında veri yükleme, temizleme, dönüştürme ve modelleme işlemlerini gerçekleştirmek için gerekli temel altyapıyı hazırlar."
      ]
    },
    {
      "cell_type": "markdown",
      "source": [
        "---"
      ],
      "metadata": {
        "id": "ECUvXILArBvz"
      }
    },
    {
      "cell_type": "markdown",
      "source": [
        "**GÖREV 1: VERİYİ TANIMA VE HAZIRLAMA**"
      ],
      "metadata": {
        "id": "rhm7kTAikmBZ"
      }
    },
    {
      "cell_type": "code",
      "metadata": {
        "colab": {
          "base_uri": "https://localhost:8080/"
        },
        "id": "8638a496",
        "outputId": "8cc9e5fc-fdfd-4c91-f28b-b6256e2b86b3"
      },
      "source": [
        "###############################################################\n",
        "# 1. Veri setini içe aktar\n",
        "###############################################################\n",
        "\n",
        "# Dosya yolu tanımlanıyor.\n",
        "file_path = '/content/drive/MyDrive/flo_data_20k.csv'\n",
        "# CSV dosyasını pandas DataFrame'ine oku.\n",
        "df_ = pd.read_csv(file_path)\n",
        "# Orijinal DataFrame'in bir kopyasını oluştur.\n",
        "df = df_.copy()\n",
        "\n",
        "# Doğru şekilde yüklendiğini onaylamak için ilk birkaç satırı görüntüle\n",
        "print(\"\\nFirst 5 rows of dataset:\")\n",
        "print(df.head(), \"\\n\")"
      ],
      "execution_count": null,
      "outputs": [
        {
          "output_type": "stream",
          "name": "stdout",
          "text": [
            "\n",
            "First 5 rows of dataset:\n",
            "                              master_id order_channel last_order_channel  \\\n",
            "0  cc294636-19f0-11eb-8d74-000d3a38a36f   Android App            Offline   \n",
            "1  f431bd5a-ab7b-11e9-a2fc-000d3a38a36f   Android App             Mobile   \n",
            "2  69b69676-1a40-11ea-941b-000d3a38a36f   Android App        Android App   \n",
            "3  1854e56c-491f-11eb-806e-000d3a38a36f   Android App        Android App   \n",
            "4  d6ea1074-f1f5-11e9-9346-000d3a38a36f       Desktop            Desktop   \n",
            "\n",
            "  first_order_date last_order_date last_order_date_online  \\\n",
            "0       2020-10-30      2021-02-26             2021-02-21   \n",
            "1       2017-02-08      2021-02-16             2021-02-16   \n",
            "2       2019-11-27      2020-11-27             2020-11-27   \n",
            "3       2021-01-06      2021-01-17             2021-01-17   \n",
            "4       2019-08-03      2021-03-07             2021-03-07   \n",
            "\n",
            "  last_order_date_offline  order_num_total_ever_online  \\\n",
            "0              2021-02-26                         4.00   \n",
            "1              2020-01-10                        19.00   \n",
            "2              2019-12-01                         3.00   \n",
            "3              2021-01-06                         1.00   \n",
            "4              2019-08-03                         1.00   \n",
            "\n",
            "   order_num_total_ever_offline  customer_value_total_ever_offline  \\\n",
            "0                          1.00                             139.99   \n",
            "1                          2.00                             159.97   \n",
            "2                          2.00                             189.97   \n",
            "3                          1.00                              39.99   \n",
            "4                          1.00                              49.99   \n",
            "\n",
            "   customer_value_total_ever_online       interested_in_categories_12  \n",
            "0                            799.38                           [KADIN]  \n",
            "1                           1853.58  [ERKEK, COCUK, KADIN, AKTIFSPOR]  \n",
            "2                            395.35                    [ERKEK, KADIN]  \n",
            "3                             81.98               [AKTIFCOCUK, COCUK]  \n",
            "4                            159.99                       [AKTIFSPOR]   \n",
            "\n"
          ]
        }
      ]
    },
    {
      "cell_type": "markdown",
      "metadata": {
        "id": "7eefb2a6"
      },
      "source": [
        "  **Veri Seti Bilgisi**\n",
        "\n",
        "  Bu veri seti, 2020 - 2021 yıllarında OmniChannel (hem online hem offline alışveriş yapan) olarak alışveriş yapan müşterilerin geçmiş alışveriş davranışlarından elde edilen bilgilerden oluşmaktadır.\n",
        "\n",
        "  Veri setindeki sütunlar aşağıdaki bilgileri içermektedir:\n",
        "\n",
        "*   **master\\_id**: Eşsiz müşteri numarası\n",
        "*   **order\\_channel**: Alışveriş yapılan platforma ait hangi kanalın kullanıldığı (Android, ios, Desktop, Mobile, Offline)\n",
        "*   **last\\_order\\_channel**: En son alışverişin yapıldığı kanal\n",
        "*   **first\\_order\\_date**: Müşterinin yaptığı ilk alışveriş tarihi\n",
        "*   **last\\_order\\_date**: Müşterinin yaptığı son alışveriş tarihi\n",
        "*   **last\\_order\\_date\\_online**: Müşterinin online platformda yaptığı son alışveriş tarihi\n",
        "*   **last\\_order\\_date\\_offline**: Müşterinin offline platformda yaptığı son alışveriş tarihi\n",
        "*   **order\\_num\\_total\\_ever\\_online**: Müşterinin online platformda yaptığı toplam alışveriş sayısı\n",
        "*   **order\\_num\\_total\\_ever\\_offline**: Müşterinin offline'da yaptığı toplam alışveriş sayısı\n",
        "*   **customer\\_value\\_total\\_ever\\_offline**: Müşterinin offline alışverişlerinde ödediği toplam ücret\n",
        "*   **customer\\_value\\_total\\_ever\\_online**: Müşterinin online alışverişlerinde ödediği toplam ücret\n",
        "*   **interested\\_in\\_categories\\_12**: Müşterinin son 12 ayda alışveriş yaptığı kategorilerin listesi"
      ]
    },
    {
      "cell_type": "markdown",
      "source": [
        "---"
      ],
      "metadata": {
        "id": "NemFCT826Kwq"
      }
    },
    {
      "cell_type": "code",
      "source": [
        "###############################################################\n",
        "# 2. Aykırı değerleri baskılamak için fonksiyonlar\n",
        "###############################################################\n",
        "\n",
        "# Aykırı değerler için eşik değerlerini hesaplayan fonksiyon\n",
        "def outlier_thresholds(dataframe, variable):\n",
        "    # %1 ve %99 çeyreklerini (quartiles) hesapla\n",
        "    q1 = dataframe[variable].quantile(0.01)\n",
        "    q3 = dataframe[variable].quantile(0.99)\n",
        "    # Çeyrekler arası açıklığı (Interquartile Range - IQR) hesapla\n",
        "    iqr = q3 - q1\n",
        "    # Üst eşik değerini hesapla\n",
        "    up_limit = q3 + 1.5 * iqr\n",
        "    # Alt eşik değerini hesapla\n",
        "    low_limit = q1 - 1.5 * iqr\n",
        "    # Hesaplanan eşik değerlerini döndür (yuvarlanmış)\n",
        "    return round(low_limit, 0), round(up_limit, 0)\n",
        "\n",
        "# Aykırı değerleri eşik değerleri ile değiştiren fonksiyon\n",
        "def replace_with_thresholds(dataframe, variable):\n",
        "    # Belirtilen değişken için alt ve üst eşik değerlerini al\n",
        "    low_limit, up_limit = outlier_thresholds(dataframe, variable)\n",
        "    # Alt eşiğin altındaki değerleri alt eşik ile değiştir\n",
        "    dataframe.loc[(dataframe[variable] < low_limit), variable] = low_limit\n",
        "    # Üst eşiğin üzerindeki değerleri üst eşik ile değiştir\n",
        "    dataframe.loc[(dataframe[variable] > up_limit), variable] = up_limit"
      ],
      "metadata": {
        "id": "sLuDdawz6Mt_"
      },
      "execution_count": null,
      "outputs": []
    },
    {
      "cell_type": "markdown",
      "metadata": {
        "id": "62d09bfe"
      },
      "source": [
        "* * *\n",
        "\n",
        "**Aykırı Değerleri Baskılamak İçin Fonksiyon Tanımlama**\n",
        "\n",
        "Bu adımda, veri setimizdeki olası aykırı değerleri (outliers) tespit etmek ve analizimizin doğruluğunu artırmak amacıyla bu değerleri belirli eşiklerle değiştirmek için iki adet yardımcı Python fonksiyonu tanımlanmıştır. Bu fonksiyonlar, özellikle CLTV hesaplamaları gibi hassas analizler öncesinde veri setini temizlemek için kritik öneme sahiptir.\n",
        "\n",
        "Tanımlanan fonksiyonlar şunlardır:\n",
        "\n",
        "1.  **`outlier_thresholds(dataframe, variable)` Fonksiyonu:**\n",
        "    *   Bu fonksiyonun amacı, verilen bir DataFrame'deki belirli bir sayısal değişken (sütun) için aykırı değerlerin kabul edilebilir alt ve üst sınırlarını hesaplamaktır.\n",
        "    *   Bu sınırlar belirlenirken, değişkenin değer dağılımının %1 ve %99'luk çeyrekleri (quartiles) kullanılır. Bu çeyrekler arasındaki fark (Çeyrekler Arası Açıklık - IQR) hesaplanır.\n",
        "    *   Alt eşik, %1'lik çeyrek değerinden 1.5 * IQR çıkarılarak; üst eşik ise %99'luk çeyrek değerine 1.5 * IQR eklenerek belirlenir. Bu yöntem, yaygın olarak kullanılan ve dağılımın dışındaki aşırı uç değerleri belirlemede etkili bir yöntemdir.\n",
        "    *   **Önemli Not:** CLTV hesaplamaları için frekans (alışveriş sayısı) değerlerinin tam sayı (integer) olması gerektiğinden, hesaplanan alt ve üst eşik değerleri `round()` fonksiyonu ile en yakın tam sayıya yuvarlanır.\n",
        "    *   Fonksiyon, hesapladığı bu alt ve üst eşik değerlerini döndürür.\n",
        "\n",
        "2.  **`replace_with_thresholds(dataframe, variable)` Fonksiyonu:**\n",
        "    *   Bu fonksiyon, `outlier_thresholds` fonksiyonu tarafından hesaplanan alt ve üst eşik değerlerini kullanarak veri setindeki aykırı değerleri düzeltir.\n",
        "    *   Fonksiyon, belirtilen değişkendeki her bir değeri kontrol eder.\n",
        "    *   Eğer bir değer, hesaplanan alt eşiğin altındaysa, o değer alt eşik değeri ile değiştirilir.\n",
        "    *   Eğer bir değer, hesaplanan üst eşiğin üzerindeyse, o değer üst eşik değeri ile değiştirilir.\n",
        "    *   Bu işlem, veri setindeki aşırı uç değerlerin neden olabileceği çarpıklıkları veya yanlış sonuçları önler. Veri setini daha standart ve güvenilir hale getirerek sonraki analiz ve modelleme adımlarının doğruluğunu artırır.\n",
        "\n",
        "Bu fonksiyonlar bir bütün olarak, veri setindeki sayısal değişkenlerin analiz ve modelleme için daha uygun hale getirilmesine yardımcı olur."
      ]
    },
    {
      "cell_type": "markdown",
      "source": [
        "---"
      ],
      "metadata": {
        "id": "om1FSXoG8xkM"
      }
    },
    {
      "cell_type": "code",
      "source": [
        "###############################################################\n",
        "# 3. İlgili değişkenlerde aykırı değer baskılama\n",
        "###############################################################\n",
        "\n",
        "# Aykırı değerleri baskılanacak sütunlar\n",
        "columns = [\"order_num_total_ever_online\", \"order_num_total_ever_offline\",\n",
        "           \"customer_value_total_ever_offline\", \"customer_value_total_ever_online\"]\n",
        "\n",
        "# Belirlenen sütunlarda aykırı değerleri baskıla\n",
        "for col in columns:\n",
        "    replace_with_thresholds(df, col)\n",
        "\n",
        "# İşlem tamamlandı mesajı\n",
        "print(\"Outliers handled successfully!\")"
      ],
      "metadata": {
        "colab": {
          "base_uri": "https://localhost:8080/"
        },
        "id": "6dYkETqe81Ov",
        "outputId": "9c7d69fb-c4aa-4516-d3e6-2a800120d669"
      },
      "execution_count": null,
      "outputs": [
        {
          "output_type": "stream",
          "name": "stdout",
          "text": [
            "Outliers handled successfully!\n"
          ]
        }
      ]
    },
    {
      "cell_type": "markdown",
      "metadata": {
        "id": "8bd42fc2"
      },
      "source": [
        "* * *\n",
        "\n",
        "**Aykırı Değer Baskılama İşleminin Tamamlanması**\n",
        "\n",
        "Bu adımda, daha önce tanımladığımız `replace_with_thresholds` fonksiyonu kullanılarak, veri setindeki toplam online ve offline sipariş sayıları (`order_num_total_ever_online`, `order_num_total_ever_offline`) ile toplam online ve offline harcama değerleri (`customer_value_total_ever_online`, `customer_value_total_ever_offline`) değişkenlerindeki aykırı değerler belirlenen eşik değerleri ile değiştirilmiştir.\n",
        "\n",
        "Bu işlem, veri setini temizleyerek ve aşırı uç değerlerin potansiyel etkisini azaltarak sonraki analiz ve modelleme adımları için daha güvenilir bir temel oluşturmayı amaçlar."
      ]
    },
    {
      "cell_type": "markdown",
      "source": [
        "---"
      ],
      "metadata": {
        "id": "ij-oKxvB_GrW"
      }
    },
    {
      "cell_type": "code",
      "source": [
        "###############################################################\n",
        "# 4. Özellik Mühendisliği: Müşteri bazında toplam sipariş sayısı ve toplam harcama\n",
        "###############################################################\n",
        "\n",
        "# Online ve offline sipariş sayılarını toplayarak toplam sipariş sayısını hesapla\n",
        "df[\"order_num_total\"] = df[\"order_num_total_ever_online\"] + df[\"order_num_total_ever_offline\"]\n",
        "\n",
        "# Online ve offline harcama değerlerini toplayarak toplam harcama değerini hesapla\n",
        "df[\"customer_value_total\"] = df[\"customer_value_total_ever_offline\"] + df[\"customer_value_total_ever_online\"]\n",
        "\n",
        "# Yeni oluşturulan değişkenleri kontrol etmek için DataFrame'in ilk birkaç satırını görüntüle (isteğe bağlı)\n",
        "display(df.head())"
      ],
      "metadata": {
        "colab": {
          "base_uri": "https://localhost:8080/",
          "height": 487
        },
        "id": "8ImneUCe_Hk2",
        "outputId": "47d768fa-8b14-4181-b018-cb2053d2053f"
      },
      "execution_count": null,
      "outputs": [
        {
          "output_type": "display_data",
          "data": {
            "text/plain": [
              "                              master_id order_channel last_order_channel  \\\n",
              "0  cc294636-19f0-11eb-8d74-000d3a38a36f   Android App            Offline   \n",
              "1  f431bd5a-ab7b-11e9-a2fc-000d3a38a36f   Android App             Mobile   \n",
              "2  69b69676-1a40-11ea-941b-000d3a38a36f   Android App        Android App   \n",
              "3  1854e56c-491f-11eb-806e-000d3a38a36f   Android App        Android App   \n",
              "4  d6ea1074-f1f5-11e9-9346-000d3a38a36f       Desktop            Desktop   \n",
              "\n",
              "  first_order_date last_order_date last_order_date_online  \\\n",
              "0       2020-10-30      2021-02-26             2021-02-21   \n",
              "1       2017-02-08      2021-02-16             2021-02-16   \n",
              "2       2019-11-27      2020-11-27             2020-11-27   \n",
              "3       2021-01-06      2021-01-17             2021-01-17   \n",
              "4       2019-08-03      2021-03-07             2021-03-07   \n",
              "\n",
              "  last_order_date_offline  order_num_total_ever_online  \\\n",
              "0              2021-02-26                         4.00   \n",
              "1              2020-01-10                        19.00   \n",
              "2              2019-12-01                         3.00   \n",
              "3              2021-01-06                         1.00   \n",
              "4              2019-08-03                         1.00   \n",
              "\n",
              "   order_num_total_ever_offline  customer_value_total_ever_offline  \\\n",
              "0                          1.00                             139.99   \n",
              "1                          2.00                             159.97   \n",
              "2                          2.00                             189.97   \n",
              "3                          1.00                              39.99   \n",
              "4                          1.00                              49.99   \n",
              "\n",
              "   customer_value_total_ever_online       interested_in_categories_12  \\\n",
              "0                            799.38                           [KADIN]   \n",
              "1                           1853.58  [ERKEK, COCUK, KADIN, AKTIFSPOR]   \n",
              "2                            395.35                    [ERKEK, KADIN]   \n",
              "3                             81.98               [AKTIFCOCUK, COCUK]   \n",
              "4                            159.99                       [AKTIFSPOR]   \n",
              "\n",
              "   order_num_total  customer_value_total  \n",
              "0             5.00                939.37  \n",
              "1            21.00               2013.55  \n",
              "2             5.00                585.32  \n",
              "3             2.00                121.97  \n",
              "4             2.00                209.98  "
            ],
            "text/html": [
              "\n",
              "  <div id=\"df-b9b7dd45-9638-4ce6-a4f4-cd28ed1802b3\" class=\"colab-df-container\">\n",
              "    <div>\n",
              "<style scoped>\n",
              "    .dataframe tbody tr th:only-of-type {\n",
              "        vertical-align: middle;\n",
              "    }\n",
              "\n",
              "    .dataframe tbody tr th {\n",
              "        vertical-align: top;\n",
              "    }\n",
              "\n",
              "    .dataframe thead th {\n",
              "        text-align: right;\n",
              "    }\n",
              "</style>\n",
              "<table border=\"1\" class=\"dataframe\">\n",
              "  <thead>\n",
              "    <tr style=\"text-align: right;\">\n",
              "      <th></th>\n",
              "      <th>master_id</th>\n",
              "      <th>order_channel</th>\n",
              "      <th>last_order_channel</th>\n",
              "      <th>first_order_date</th>\n",
              "      <th>last_order_date</th>\n",
              "      <th>last_order_date_online</th>\n",
              "      <th>last_order_date_offline</th>\n",
              "      <th>order_num_total_ever_online</th>\n",
              "      <th>order_num_total_ever_offline</th>\n",
              "      <th>customer_value_total_ever_offline</th>\n",
              "      <th>customer_value_total_ever_online</th>\n",
              "      <th>interested_in_categories_12</th>\n",
              "      <th>order_num_total</th>\n",
              "      <th>customer_value_total</th>\n",
              "    </tr>\n",
              "  </thead>\n",
              "  <tbody>\n",
              "    <tr>\n",
              "      <th>0</th>\n",
              "      <td>cc294636-19f0-11eb-8d74-000d3a38a36f</td>\n",
              "      <td>Android App</td>\n",
              "      <td>Offline</td>\n",
              "      <td>2020-10-30</td>\n",
              "      <td>2021-02-26</td>\n",
              "      <td>2021-02-21</td>\n",
              "      <td>2021-02-26</td>\n",
              "      <td>4.00</td>\n",
              "      <td>1.00</td>\n",
              "      <td>139.99</td>\n",
              "      <td>799.38</td>\n",
              "      <td>[KADIN]</td>\n",
              "      <td>5.00</td>\n",
              "      <td>939.37</td>\n",
              "    </tr>\n",
              "    <tr>\n",
              "      <th>1</th>\n",
              "      <td>f431bd5a-ab7b-11e9-a2fc-000d3a38a36f</td>\n",
              "      <td>Android App</td>\n",
              "      <td>Mobile</td>\n",
              "      <td>2017-02-08</td>\n",
              "      <td>2021-02-16</td>\n",
              "      <td>2021-02-16</td>\n",
              "      <td>2020-01-10</td>\n",
              "      <td>19.00</td>\n",
              "      <td>2.00</td>\n",
              "      <td>159.97</td>\n",
              "      <td>1853.58</td>\n",
              "      <td>[ERKEK, COCUK, KADIN, AKTIFSPOR]</td>\n",
              "      <td>21.00</td>\n",
              "      <td>2013.55</td>\n",
              "    </tr>\n",
              "    <tr>\n",
              "      <th>2</th>\n",
              "      <td>69b69676-1a40-11ea-941b-000d3a38a36f</td>\n",
              "      <td>Android App</td>\n",
              "      <td>Android App</td>\n",
              "      <td>2019-11-27</td>\n",
              "      <td>2020-11-27</td>\n",
              "      <td>2020-11-27</td>\n",
              "      <td>2019-12-01</td>\n",
              "      <td>3.00</td>\n",
              "      <td>2.00</td>\n",
              "      <td>189.97</td>\n",
              "      <td>395.35</td>\n",
              "      <td>[ERKEK, KADIN]</td>\n",
              "      <td>5.00</td>\n",
              "      <td>585.32</td>\n",
              "    </tr>\n",
              "    <tr>\n",
              "      <th>3</th>\n",
              "      <td>1854e56c-491f-11eb-806e-000d3a38a36f</td>\n",
              "      <td>Android App</td>\n",
              "      <td>Android App</td>\n",
              "      <td>2021-01-06</td>\n",
              "      <td>2021-01-17</td>\n",
              "      <td>2021-01-17</td>\n",
              "      <td>2021-01-06</td>\n",
              "      <td>1.00</td>\n",
              "      <td>1.00</td>\n",
              "      <td>39.99</td>\n",
              "      <td>81.98</td>\n",
              "      <td>[AKTIFCOCUK, COCUK]</td>\n",
              "      <td>2.00</td>\n",
              "      <td>121.97</td>\n",
              "    </tr>\n",
              "    <tr>\n",
              "      <th>4</th>\n",
              "      <td>d6ea1074-f1f5-11e9-9346-000d3a38a36f</td>\n",
              "      <td>Desktop</td>\n",
              "      <td>Desktop</td>\n",
              "      <td>2019-08-03</td>\n",
              "      <td>2021-03-07</td>\n",
              "      <td>2021-03-07</td>\n",
              "      <td>2019-08-03</td>\n",
              "      <td>1.00</td>\n",
              "      <td>1.00</td>\n",
              "      <td>49.99</td>\n",
              "      <td>159.99</td>\n",
              "      <td>[AKTIFSPOR]</td>\n",
              "      <td>2.00</td>\n",
              "      <td>209.98</td>\n",
              "    </tr>\n",
              "  </tbody>\n",
              "</table>\n",
              "</div>\n",
              "    <div class=\"colab-df-buttons\">\n",
              "\n",
              "  <div class=\"colab-df-container\">\n",
              "    <button class=\"colab-df-convert\" onclick=\"convertToInteractive('df-b9b7dd45-9638-4ce6-a4f4-cd28ed1802b3')\"\n",
              "            title=\"Convert this dataframe to an interactive table.\"\n",
              "            style=\"display:none;\">\n",
              "\n",
              "  <svg xmlns=\"http://www.w3.org/2000/svg\" height=\"24px\" viewBox=\"0 -960 960 960\">\n",
              "    <path d=\"M120-120v-720h720v720H120Zm60-500h600v-160H180v160Zm220 220h160v-160H400v160Zm0 220h160v-160H400v160ZM180-400h160v-160H180v160Zm440 0h160v-160H620v160ZM180-180h160v-160H180v160Zm440 0h160v-160H620v160Z\"/>\n",
              "  </svg>\n",
              "    </button>\n",
              "\n",
              "  <style>\n",
              "    .colab-df-container {\n",
              "      display:flex;\n",
              "      gap: 12px;\n",
              "    }\n",
              "\n",
              "    .colab-df-convert {\n",
              "      background-color: #E8F0FE;\n",
              "      border: none;\n",
              "      border-radius: 50%;\n",
              "      cursor: pointer;\n",
              "      display: none;\n",
              "      fill: #1967D2;\n",
              "      height: 32px;\n",
              "      padding: 0 0 0 0;\n",
              "      width: 32px;\n",
              "    }\n",
              "\n",
              "    .colab-df-convert:hover {\n",
              "      background-color: #E2EBFA;\n",
              "      box-shadow: 0px 1px 2px rgba(60, 64, 67, 0.3), 0px 1px 3px 1px rgba(60, 64, 67, 0.15);\n",
              "      fill: #174EA6;\n",
              "    }\n",
              "\n",
              "    .colab-df-buttons div {\n",
              "      margin-bottom: 4px;\n",
              "    }\n",
              "\n",
              "    [theme=dark] .colab-df-convert {\n",
              "      background-color: #3B4455;\n",
              "      fill: #D2E3FC;\n",
              "    }\n",
              "\n",
              "    [theme=dark] .colab-df-convert:hover {\n",
              "      background-color: #434B5C;\n",
              "      box-shadow: 0px 1px 3px 1px rgba(0, 0, 0, 0.15);\n",
              "      filter: drop-shadow(0px 1px 2px rgba(0, 0, 0, 0.3));\n",
              "      fill: #FFFFFF;\n",
              "    }\n",
              "  </style>\n",
              "\n",
              "    <script>\n",
              "      const buttonEl =\n",
              "        document.querySelector('#df-b9b7dd45-9638-4ce6-a4f4-cd28ed1802b3 button.colab-df-convert');\n",
              "      buttonEl.style.display =\n",
              "        google.colab.kernel.accessAllowed ? 'block' : 'none';\n",
              "\n",
              "      async function convertToInteractive(key) {\n",
              "        const element = document.querySelector('#df-b9b7dd45-9638-4ce6-a4f4-cd28ed1802b3');\n",
              "        const dataTable =\n",
              "          await google.colab.kernel.invokeFunction('convertToInteractive',\n",
              "                                                    [key], {});\n",
              "        if (!dataTable) return;\n",
              "\n",
              "        const docLinkHtml = 'Like what you see? Visit the ' +\n",
              "          '<a target=\"_blank\" href=https://colab.research.google.com/notebooks/data_table.ipynb>data table notebook</a>'\n",
              "          + ' to learn more about interactive tables.';\n",
              "        element.innerHTML = '';\n",
              "        dataTable['output_type'] = 'display_data';\n",
              "        await google.colab.output.renderOutput(dataTable, element);\n",
              "        const docLink = document.createElement('div');\n",
              "        docLink.innerHTML = docLinkHtml;\n",
              "        element.appendChild(docLink);\n",
              "      }\n",
              "    </script>\n",
              "  </div>\n",
              "\n",
              "\n",
              "    <div id=\"df-51c8ad68-4c78-4dff-9e10-094113e7f6a3\">\n",
              "      <button class=\"colab-df-quickchart\" onclick=\"quickchart('df-51c8ad68-4c78-4dff-9e10-094113e7f6a3')\"\n",
              "                title=\"Suggest charts\"\n",
              "                style=\"display:none;\">\n",
              "\n",
              "<svg xmlns=\"http://www.w3.org/2000/svg\" height=\"24px\"viewBox=\"0 0 24 24\"\n",
              "     width=\"24px\">\n",
              "    <g>\n",
              "        <path d=\"M19 3H5c-1.1 0-2 .9-2 2v14c0 1.1.9 2 2 2h14c1.1 0 2-.9 2-2V5c0-1.1-.9-2-2-2zM9 17H7v-7h2v7zm4 0h-2V7h2v10zm4 0h-2v-4h2v4z\"/>\n",
              "    </g>\n",
              "</svg>\n",
              "      </button>\n",
              "\n",
              "<style>\n",
              "  .colab-df-quickchart {\n",
              "      --bg-color: #E8F0FE;\n",
              "      --fill-color: #1967D2;\n",
              "      --hover-bg-color: #E2EBFA;\n",
              "      --hover-fill-color: #174EA6;\n",
              "      --disabled-fill-color: #AAA;\n",
              "      --disabled-bg-color: #DDD;\n",
              "  }\n",
              "\n",
              "  [theme=dark] .colab-df-quickchart {\n",
              "      --bg-color: #3B4455;\n",
              "      --fill-color: #D2E3FC;\n",
              "      --hover-bg-color: #434B5C;\n",
              "      --hover-fill-color: #FFFFFF;\n",
              "      --disabled-bg-color: #3B4455;\n",
              "      --disabled-fill-color: #666;\n",
              "  }\n",
              "\n",
              "  .colab-df-quickchart {\n",
              "    background-color: var(--bg-color);\n",
              "    border: none;\n",
              "    border-radius: 50%;\n",
              "    cursor: pointer;\n",
              "    display: none;\n",
              "    fill: var(--fill-color);\n",
              "    height: 32px;\n",
              "    padding: 0;\n",
              "    width: 32px;\n",
              "  }\n",
              "\n",
              "  .colab-df-quickchart:hover {\n",
              "    background-color: var(--hover-bg-color);\n",
              "    box-shadow: 0 1px 2px rgba(60, 64, 67, 0.3), 0 1px 3px 1px rgba(60, 64, 67, 0.15);\n",
              "    fill: var(--button-hover-fill-color);\n",
              "  }\n",
              "\n",
              "  .colab-df-quickchart-complete:disabled,\n",
              "  .colab-df-quickchart-complete:disabled:hover {\n",
              "    background-color: var(--disabled-bg-color);\n",
              "    fill: var(--disabled-fill-color);\n",
              "    box-shadow: none;\n",
              "  }\n",
              "\n",
              "  .colab-df-spinner {\n",
              "    border: 2px solid var(--fill-color);\n",
              "    border-color: transparent;\n",
              "    border-bottom-color: var(--fill-color);\n",
              "    animation:\n",
              "      spin 1s steps(1) infinite;\n",
              "  }\n",
              "\n",
              "  @keyframes spin {\n",
              "    0% {\n",
              "      border-color: transparent;\n",
              "      border-bottom-color: var(--fill-color);\n",
              "      border-left-color: var(--fill-color);\n",
              "    }\n",
              "    20% {\n",
              "      border-color: transparent;\n",
              "      border-left-color: var(--fill-color);\n",
              "      border-top-color: var(--fill-color);\n",
              "    }\n",
              "    30% {\n",
              "      border-color: transparent;\n",
              "      border-left-color: var(--fill-color);\n",
              "      border-top-color: var(--fill-color);\n",
              "      border-right-color: var(--fill-color);\n",
              "    }\n",
              "    40% {\n",
              "      border-color: transparent;\n",
              "      border-right-color: var(--fill-color);\n",
              "      border-top-color: var(--fill-color);\n",
              "    }\n",
              "    60% {\n",
              "      border-color: transparent;\n",
              "      border-right-color: var(--fill-color);\n",
              "    }\n",
              "    80% {\n",
              "      border-color: transparent;\n",
              "      border-right-color: var(--fill-color);\n",
              "      border-bottom-color: var(--fill-color);\n",
              "    }\n",
              "    90% {\n",
              "      border-color: transparent;\n",
              "      border-bottom-color: var(--fill-color);\n",
              "    }\n",
              "  }\n",
              "</style>\n",
              "\n",
              "      <script>\n",
              "        async function quickchart(key) {\n",
              "          const quickchartButtonEl =\n",
              "            document.querySelector('#' + key + ' button');\n",
              "          quickchartButtonEl.disabled = true;  // To prevent multiple clicks.\n",
              "          quickchartButtonEl.classList.add('colab-df-spinner');\n",
              "          try {\n",
              "            const charts = await google.colab.kernel.invokeFunction(\n",
              "                'suggestCharts', [key], {});\n",
              "          } catch (error) {\n",
              "            console.error('Error during call to suggestCharts:', error);\n",
              "          }\n",
              "          quickchartButtonEl.classList.remove('colab-df-spinner');\n",
              "          quickchartButtonEl.classList.add('colab-df-quickchart-complete');\n",
              "        }\n",
              "        (() => {\n",
              "          let quickchartButtonEl =\n",
              "            document.querySelector('#df-51c8ad68-4c78-4dff-9e10-094113e7f6a3 button');\n",
              "          quickchartButtonEl.style.display =\n",
              "            google.colab.kernel.accessAllowed ? 'block' : 'none';\n",
              "        })();\n",
              "      </script>\n",
              "    </div>\n",
              "\n",
              "    </div>\n",
              "  </div>\n"
            ],
            "application/vnd.google.colaboratory.intrinsic+json": {
              "type": "dataframe",
              "summary": "{\n  \"name\": \"display(df\",\n  \"rows\": 5,\n  \"fields\": [\n    {\n      \"column\": \"master_id\",\n      \"properties\": {\n        \"dtype\": \"string\",\n        \"num_unique_values\": 5,\n        \"samples\": [\n          \"f431bd5a-ab7b-11e9-a2fc-000d3a38a36f\",\n          \"d6ea1074-f1f5-11e9-9346-000d3a38a36f\",\n          \"69b69676-1a40-11ea-941b-000d3a38a36f\"\n        ],\n        \"semantic_type\": \"\",\n        \"description\": \"\"\n      }\n    },\n    {\n      \"column\": \"order_channel\",\n      \"properties\": {\n        \"dtype\": \"category\",\n        \"num_unique_values\": 2,\n        \"samples\": [\n          \"Desktop\",\n          \"Android App\"\n        ],\n        \"semantic_type\": \"\",\n        \"description\": \"\"\n      }\n    },\n    {\n      \"column\": \"last_order_channel\",\n      \"properties\": {\n        \"dtype\": \"string\",\n        \"num_unique_values\": 4,\n        \"samples\": [\n          \"Mobile\",\n          \"Desktop\"\n        ],\n        \"semantic_type\": \"\",\n        \"description\": \"\"\n      }\n    },\n    {\n      \"column\": \"first_order_date\",\n      \"properties\": {\n        \"dtype\": \"object\",\n        \"num_unique_values\": 5,\n        \"samples\": [\n          \"2017-02-08\",\n          \"2019-08-03\"\n        ],\n        \"semantic_type\": \"\",\n        \"description\": \"\"\n      }\n    },\n    {\n      \"column\": \"last_order_date\",\n      \"properties\": {\n        \"dtype\": \"object\",\n        \"num_unique_values\": 5,\n        \"samples\": [\n          \"2021-02-16\",\n          \"2021-03-07\"\n        ],\n        \"semantic_type\": \"\",\n        \"description\": \"\"\n      }\n    },\n    {\n      \"column\": \"last_order_date_online\",\n      \"properties\": {\n        \"dtype\": \"object\",\n        \"num_unique_values\": 5,\n        \"samples\": [\n          \"2021-02-16\",\n          \"2021-03-07\"\n        ],\n        \"semantic_type\": \"\",\n        \"description\": \"\"\n      }\n    },\n    {\n      \"column\": \"last_order_date_offline\",\n      \"properties\": {\n        \"dtype\": \"object\",\n        \"num_unique_values\": 5,\n        \"samples\": [\n          \"2020-01-10\",\n          \"2019-08-03\"\n        ],\n        \"semantic_type\": \"\",\n        \"description\": \"\"\n      }\n    },\n    {\n      \"column\": \"order_num_total_ever_online\",\n      \"properties\": {\n        \"dtype\": \"number\",\n        \"std\": 7.602631123499285,\n        \"min\": 1.0,\n        \"max\": 19.0,\n        \"num_unique_values\": 4,\n        \"samples\": [\n          19.0,\n          1.0\n        ],\n        \"semantic_type\": \"\",\n        \"description\": \"\"\n      }\n    },\n    {\n      \"column\": \"order_num_total_ever_offline\",\n      \"properties\": {\n        \"dtype\": \"number\",\n        \"std\": 0.5477225575051661,\n        \"min\": 1.0,\n        \"max\": 2.0,\n        \"num_unique_values\": 2,\n        \"samples\": [\n          2.0,\n          1.0\n        ],\n        \"semantic_type\": \"\",\n        \"description\": \"\"\n      }\n    },\n    {\n      \"column\": \"customer_value_total_ever_offline\",\n      \"properties\": {\n        \"dtype\": \"number\",\n        \"std\": 67.2965089733487,\n        \"min\": 39.99,\n        \"max\": 189.97,\n        \"num_unique_values\": 5,\n        \"samples\": [\n          159.97,\n          49.99\n        ],\n        \"semantic_type\": \"\",\n        \"description\": \"\"\n      }\n    },\n    {\n      \"column\": \"customer_value_total_ever_online\",\n      \"properties\": {\n        \"dtype\": \"number\",\n        \"std\": 724.2578698433313,\n        \"min\": 81.98,\n        \"max\": 1853.58,\n        \"num_unique_values\": 5,\n        \"samples\": [\n          1853.58,\n          159.99\n        ],\n        \"semantic_type\": \"\",\n        \"description\": \"\"\n      }\n    },\n    {\n      \"column\": \"interested_in_categories_12\",\n      \"properties\": {\n        \"dtype\": \"string\",\n        \"num_unique_values\": 5,\n        \"samples\": [\n          \"[ERKEK, COCUK, KADIN, AKTIFSPOR]\",\n          \"[AKTIFSPOR]\"\n        ],\n        \"semantic_type\": \"\",\n        \"description\": \"\"\n      }\n    },\n    {\n      \"column\": \"order_num_total\",\n      \"properties\": {\n        \"dtype\": \"number\",\n        \"std\": 7.968688725254614,\n        \"min\": 2.0,\n        \"max\": 21.0,\n        \"num_unique_values\": 3,\n        \"samples\": [\n          5.0,\n          21.0\n        ],\n        \"semantic_type\": \"\",\n        \"description\": \"\"\n      }\n    },\n    {\n      \"column\": \"customer_value_total\",\n      \"properties\": {\n        \"dtype\": \"number\",\n        \"std\": 765.2929595716924,\n        \"min\": 121.97,\n        \"max\": 2013.55,\n        \"num_unique_values\": 5,\n        \"samples\": [\n          2013.55,\n          209.98000000000002\n        ],\n        \"semantic_type\": \"\",\n        \"description\": \"\"\n      }\n    }\n  ]\n}"
            }
          },
          "metadata": {}
        }
      ]
    },
    {
      "cell_type": "markdown",
      "metadata": {
        "id": "22c7bdde"
      },
      "source": [
        "* * *\n",
        "\n",
        "**Toplam Alışveriş Sayısı ve Harcama Değişkenlerinin Oluşturulması**\n",
        "\n",
        "Bu adımda, her bir müşterinin online ve offline platformlardaki alışveriş verileri birleştirilerek iki yeni değişken oluşturulmuştur:\n",
        "\n",
        "*   **`order_num_total`**: Müşterinin online (`order_num_total_ever_online`) ve offline (`order_num_total_ever_offline`) kanallardan yaptığı toplam sipariş sayısını temsil eder. Bu değişken, müşterinin genel alışveriş sıklığını gösterir.\n",
        "*   **`customer_value_total`**: Müşterinin online (`customer_value_total_ever_online`) ve offline (`customer_value_total_ever_offline`) kanallarda harcadığı toplam tutarı temsil eder. Bu değişken, müşterinin toplam değerini ve harcama potansiyelini yansıtır.\n",
        "\n",
        "Bu yeni değişkenler, müşterilerin genel alışveriş davranışlarını daha iyi anlamak ve RFM veya CLTV gibi ileri analizler için temel sağlamak amacıyla oluşturulmuştur."
      ]
    },
    {
      "cell_type": "markdown",
      "source": [
        "---"
      ],
      "metadata": {
        "id": "qeAXKqyQAVQ5"
      }
    },
    {
      "cell_type": "markdown",
      "source": [
        "**GÖREV 2: CLTV METRİKLERİNİN HESAPLANMASI**"
      ],
      "metadata": {
        "id": "F_hr9KIXsQfX"
      }
    },
    {
      "cell_type": "markdown",
      "source": [
        "Bu bölüm, Customer Lifetime Value (CLTV) tahmini için temel oluşturan Recency, Frequency ve Monetary gibi müşteri metriklerini hesaplar."
      ],
      "metadata": {
        "id": "2BLhKRGiMVnN"
      }
    },
    {
      "cell_type": "code",
      "source": [
        "###############################################################\n",
        "# 1. Analiz tarihi: Son alışveriş tarihinden 2 gün sonrası\n",
        "###############################################################\n",
        "\n",
        "# 'last_order_date' ve 'first_order_date' sütunlarını datetime formatına çevir\n",
        "for col in [\"last_order_date\", \"first_order_date\"]:\n",
        "    df[col] = pd.to_datetime(df[col])\n",
        "\n",
        "# Veri setindeki son sipariş tarihini bul\n",
        "print(\"\\nLast order date in dataset:\")\n",
        "print(df[\"last_order_date\"].max(),\"\\n\")\n",
        "\n",
        "# Analiz tarihini belirle (son sipariş tarihinden 2 gün sonrası)\n",
        "analysis_date = dt.datetime(2021, 6, 1)\n",
        "\n",
        "###############################################################\n",
        "# 2. CLTV dataframe oluşturma\n",
        "###############################################################\n",
        "\n",
        "# CLTV analizi için yeni DataFrame oluştur\n",
        "cltv_df = pd.DataFrame()\n",
        "# Müşteri ID'lerini ekle\n",
        "cltv_df[\"customer_id\"] = df[\"master_id\"]\n",
        "# Recency_cltv_weekly hesapla (haftalık)\n",
        "cltv_df[\"recency_cltv_weekly\"] = ((df[\"last_order_date\"] - df[\"first_order_date\"]).dt.days) / 7\n",
        "# T_weekly hesapla (haftalık)\n",
        "cltv_df[\"T_weekly\"] = ((analysis_date - df[\"first_order_date\"]).dt.days) / 7\n",
        "# Frequency ata (toplam sipariş sayısı)\n",
        "cltv_df[\"frequency\"] = df[\"order_num_total\"]\n",
        "# Monetary_cltv_avg hesapla (ortalama işlem değeri)\n",
        "cltv_df[\"monetary_cltv_avg\"] = df[\"customer_value_total\"] / df[\"order_num_total\"]\n",
        "\n",
        "# Oluşturulan CLTV DataFrame'inin ilk birkaç satırını görüntüle\n",
        "print(\"\\nCLTV dataframe created!\")\n",
        "print(cltv_df.head(),\"\\n\")"
      ],
      "metadata": {
        "colab": {
          "base_uri": "https://localhost:8080/"
        },
        "id": "hADXub82AsBZ",
        "outputId": "7e84fac9-7b1e-4bf6-fc29-6c2068bf92a2"
      },
      "execution_count": null,
      "outputs": [
        {
          "output_type": "stream",
          "name": "stdout",
          "text": [
            "\n",
            "Last order date in dataset:\n",
            "2021-05-30 00:00:00 \n",
            "\n",
            "\n",
            "CLTV dataframe created!\n",
            "                            customer_id  recency_cltv_weekly  T_weekly  \\\n",
            "0  cc294636-19f0-11eb-8d74-000d3a38a36f                17.00     30.57   \n",
            "1  f431bd5a-ab7b-11e9-a2fc-000d3a38a36f               209.86    224.86   \n",
            "2  69b69676-1a40-11ea-941b-000d3a38a36f                52.29     78.86   \n",
            "3  1854e56c-491f-11eb-806e-000d3a38a36f                 1.57     20.86   \n",
            "4  d6ea1074-f1f5-11e9-9346-000d3a38a36f                83.14     95.43   \n",
            "\n",
            "   frequency  monetary_cltv_avg  \n",
            "0       5.00             187.87  \n",
            "1      21.00              95.88  \n",
            "2       5.00             117.06  \n",
            "3       2.00              60.98  \n",
            "4       2.00             104.99   \n",
            "\n"
          ]
        }
      ]
    },
    {
      "cell_type": "markdown",
      "metadata": {
        "id": "018b62ae"
      },
      "source": [
        "* * *\n",
        "\n",
        "**CLTV Metriklerinin Hesaplama Adımı**\n",
        "\n",
        "Bu adımda, Customer Lifetime Value (CLTV) analizi için temel teşkil eden metrikler hesaplanarak yeni bir DataFrame (`cltv_df`) oluşturulmuştur.\n",
        "\n",
        "1.  **Analiz Tarihinin Belirlenmesi:**\n",
        "    *   Veri setindeki en güncel müşteri aktivitesini yansıtması için, analiz tarihi veri setindeki en son sipariş tarihinden 2 gün sonrası olarak belirlenmiştir. Bu tarih (`analysis_date`), `dt.datetime(2021, 6, 1)` olarak sabitlenmiştir.\n",
        "\n",
        "2.  **CLTV DataFrame'inin Oluşturulması (`cltv_df`):**\n",
        "    *   Müşteri bazında CLTV metriklerini tutacak boş bir DataFrame oluşturulur.\n",
        "    *   Her müşterinin benzersiz kimliği (`master_id`), `customer_id` sütunu olarak DataFrame'e eklenir.\n",
        "    *   **`recency_cltv_weekly`**: Müşterinin ilk siparişi ile son siparişi arasındaki süreyi hafta cinsinden hesaplar. Bu değer, müşterinin aktif olduğu süreyi gösterir. Formül: `(Son Sipariş Tarihi - İlk Sipariş Tarihi) / 7 gün`.\n",
        "    *   **`T_weekly`**: Müşterinin ilk sipariş tarihi ile belirlenen analiz tarihi arasındaki toplam süreyi hafta cinsinden hesaplar. Bu, müşterinin sistemde ne kadar süredir var olduğunu gösterir. Formül: `(Analiz Tarihi - İlk Sipariş Tarihi) / 7 gün`.\n",
        "    *   **`frequency`**: Müşterinin veri setindeki toplam sipariş sayısını alır. Bu değer daha önceki adımlarda online ve offline siparişlerin toplamı olarak hesaplanmıştı (`order_num_total`).\n",
        "    *   **`monetary_cltv_avg`**: Her müşterinin ortalama işlem değerini hesaplar. Bu, toplam harcama değerinin toplam sipariş sayısına bölünmesiyle elde edilir. Formül: `Toplam Harcama / Toplam Sipariş Sayısı`. Dikkat edilmesi gereken nokta, toplam sipariş sayısı 0 olan müşteriler için bu değer tanımsız (NaN) olacaktır.\n",
        "\n",
        "Bu adımlar tamamlandığında, `cltv_df` DataFrame'i BG-NBD ve Gamma-Gamma modelleri ile CLTV tahmini yapmak için gerekli temel müşteri bazlı metrikleri içermiş olur."
      ]
    },
    {
      "cell_type": "markdown",
      "source": [
        "---"
      ],
      "metadata": {
        "id": "lWSOifnNAXBI"
      }
    },
    {
      "cell_type": "markdown",
      "source": [
        "---"
      ],
      "metadata": {
        "id": "_QbP20cTDuQK"
      }
    },
    {
      "cell_type": "markdown",
      "source": [
        "**GÖREV 3: BG/NBD ve GAMMA-GAMMA MODELLERİ İLE CLTV HESAPLAMA**"
      ],
      "metadata": {
        "id": "IcAaHw10DvWh"
      }
    },
    {
      "cell_type": "markdown",
      "source": [
        "Bu bölüm, müşteri yaşam boyu değerini (CLTV) tahmin etmek için BG/NBD ve Gamma-Gamma istatistiksel modellerini kullanarak hesaplamalar yapar."
      ],
      "metadata": {
        "id": "l1DsJGCmECbq"
      }
    },
    {
      "cell_type": "code",
      "source": [
        "###############################################################\n",
        "# 1. BG/NBD Modeli\n",
        "###############################################################\n",
        "\n",
        "# BG/NBD modelini uydurmadan önce veri hazırlığı\n",
        "# Sıklığı 0 olan müşterileri çıkar\n",
        "cltv_df = cltv_df[cltv_df['frequency'] > 0]\n",
        "\n",
        "# Frequency sütununu integer'a dönüştür\n",
        "cltv_df['frequency'] = cltv_df['frequency'].astype(int)\n",
        "\n",
        "# Model uydurmadan önce frequency ve recency_cltv_weekly minimum değerlerini kontrol et\n",
        "print(f\"\\nMinimum frequency after filtering: {cltv_df['frequency'].min()}\")\n",
        "print(f\"Minimum recency_cltv_weekly after filtering: {cltv_df['recency_cltv_weekly'].min()}\")\n",
        "\n",
        "# Beta-Geometric Negative Binomial Distribution (BG/NBD) modelini başlat\n",
        "# penalizer_coef, aşırı uyumu (overfitting) önlemek için kullanılan bir düzenlileştirme (regularization) parametresidir.\n",
        "bgf = BetaGeoFitter(penalizer_coef=0.001)\n",
        "\n",
        "# BG/NBD modelini veri setine uygula (fit et)\n",
        "# Model, müşterilerin satın alma sıklığı (frequency), ilk ve son satın alma arasındaki süre (recency_cltv_weekly)\n",
        "# ve ilk satın alma ile analiz tarihi arasındaki süre (T_weekly) verilerini kullanarak parametrelerini öğrenir.\n",
        "bgf.fit(cltv_df['frequency'],\n",
        "        cltv_df['recency_cltv_weekly'],\n",
        "        cltv_df['T_weekly'])\n",
        "\n",
        "# Modelin başarıyla kurulduğunu belirten bir mesaj yazdır\n",
        "print(\"BG/NBD model fitted successfully!\")"
      ],
      "metadata": {
        "colab": {
          "base_uri": "https://localhost:8080/"
        },
        "id": "GJittRkEEC93",
        "outputId": "954e457a-a6dc-48bc-ccfa-ded33164a89a"
      },
      "execution_count": null,
      "outputs": [
        {
          "output_type": "stream",
          "name": "stdout",
          "text": [
            "\n",
            "Minimum frequency after filtering: 2\n",
            "Minimum recency_cltv_weekly after filtering: 0.0\n",
            "BG/NBD model fitted successfully!\n"
          ]
        },
        {
          "output_type": "stream",
          "name": "stderr",
          "text": [
            "/usr/local/lib/python3.11/dist-packages/pandas/core/arraylike.py:399: RuntimeWarning: invalid value encountered in sqrt\n",
            "  result = getattr(ufunc, method)(*inputs, **kwargs)\n"
          ]
        }
      ]
    },
    {
      "cell_type": "markdown",
      "metadata": {
        "id": "55847f44"
      },
      "source": [
        "* * *\n",
        "\n",
        "**BG/NBD Modelinin Kurulması**\n",
        "\n",
        "Bu adımda, müşteri yaşam boyu değerini (CLTV) tahmin etmek için kullanılan iki ana modelden ilki olan BG/NBD (Beta-Geometric Negative Binomial Distribution) modeli kurulmuştur.\n",
        "\n",
        "*   **BG/NBD Modeli Ne Yapar?**\n",
        "    *   Bu model, bir müşterinin gelecekteki belirli bir zaman diliminde yapacağı tahmini satın alma sayısını belirler.\n",
        "    *   Müşterinin ne zaman \"churn\" (terk etme) olasılığının daha yüksek olduğunu ve ne zaman hala \"alive\" (aktif) olduğunu olasılıksal olarak modeller.\n",
        "    *   Model, müşterinin geçmiş satın alma sıklığı (frequency), ilk ve son satın alma arasındaki süre (recency) ve ilk satın alma ile analiz tarihi arasındaki toplam süre (T) gibi bilgileri kullanarak öğrenir.\n",
        "\n",
        "*   **Kod Açıklaması:**\n",
        "\n",
        "    1.  **Veri Hazırlığı:** BG/NBD modelini uydurmadan önce, `cltv_df` DataFrame'i hazırlanır. Bu hazırlık kapsamında sıklığı (frequency) 0 olan müşteriler çıkarılır ve `frequency` sütunu integer tipine dönüştürülür. Bu adımlar, modelin doğru çalışması ve hata vermemesi için gereklidir.\n",
        "\n",
        "    2.  **Modelin Başlatılması:** `BetaGeoFitter(penalizer_coef=0.001)` kodu ile BG/NBD modeli başlatılır. `penalizer_coef` parametresi, modelin veri setine aşırı uyumunu (overfitting) önlemek için kullanılan küçük bir düzenlileştirme (regularization) değeridir.\n",
        "\n",
        "    3.  **Modelin Eğitilmesi (Fit Edilmesi):** `bgf.fit(cltv_df['frequency'], cltv_df['recency_cltv_weekly'], cltv_df['T_weekly'])` kodu ile model veri setine uydurulur. Model, `cltv_df` DataFrame'indeki `frequency`, `recency_cltv_weekly` ve `T_weekly` sütunlarını kullanarak müşteri davranışlarını tanımlayan parametrelerini öğrenir.\n",
        "\n",
        "BG/NBD modelinin başarılı bir şekilde kurulması, müşterilerin gelecekteki satın alma davranışlarına ilişkin tahminler yapmamıza olanak tanır ve CLTV hesaplamasının bir parçasını oluşturur."
      ]
    },
    {
      "cell_type": "markdown",
      "source": [
        "---"
      ],
      "metadata": {
        "id": "nKBVrSCyGZba"
      }
    },
    {
      "cell_type": "code",
      "source": [
        "###############################################################\n",
        "# 1.a. 3 aylık satın alma tahmini\n",
        "###############################################################\n",
        "\n",
        "# BG/NBD modeli (bgf) kullanarak sonraki 3 ay (12 hafta) için beklenen satın alma sayısını tahmin et\n",
        "# predict fonksiyonu, modelin öğrendiği parametreleri ve müşterinin recency, frequency, T_weekly değerlerini kullanarak tahmini hesaplar.\n",
        "cltv_df[\"exp_sales_3_month\"] = bgf.predict(4*3, # 4 hafta/ay * 3 ay = 12 hafta\n",
        "                                           cltv_df['frequency'],\n",
        "                                           cltv_df['recency_cltv_weekly'],\n",
        "                                           cltv_df['T_weekly'])\n",
        "\n",
        "###############################################################\n",
        "# 1.b. 6 aylık satın alma tahmini\n",
        "###############################################################\n",
        "\n",
        "# BG/NBD modeli (bgf) kullanarak sonraki 6 ay (24 hafta) için beklenen satın alma sayısını tahmin et\n",
        "cltv_df[\"exp_sales_6_month\"] = bgf.predict(4*6, # 4 hafta/ay * 6 ay = 24 hafta\n",
        "                                           cltv_df['frequency'],\n",
        "                                           cltv_df['recency_cltv_weekly'],\n",
        "                                           cltv_df['T_weekly'])\n",
        "\n",
        "# Tahmin sütunlarının başarıyla eklendiğini belirten bir mesaj yazdır\n",
        "print(\"Expected sales predictions added (3 and 6 months).\")"
      ],
      "metadata": {
        "colab": {
          "base_uri": "https://localhost:8080/"
        },
        "id": "xnDeLspjGb7T",
        "outputId": "63a82a41-8f9c-4252-838c-df7e2f02643f"
      },
      "execution_count": null,
      "outputs": [
        {
          "output_type": "stream",
          "name": "stdout",
          "text": [
            "Expected sales predictions added (3 and 6 months).\n"
          ]
        }
      ]
    },
    {
      "cell_type": "markdown",
      "metadata": {
        "id": "e9969be1"
      },
      "source": [
        "* * *\n",
        "\n",
        "**Gelecekteki Satın Alma Sayısının Tahmin Edilmesi (BG/NBD Modeli)**\n",
        "\n",
        "BG/NBD modeli kurulduktan sonra, bu modeli kullanarak her bir müşterinin gelecekte belirli bir zaman diliminde yapması beklenen satın alma sayısını tahmin edebiliriz. Bu adımda, müşterilerin sonraki 3 ay (12 hafta) ve 6 ay (24 hafta) içinde kaç adet satın alma yapması beklendiğini tahmin ediyoruz.\n",
        "\n",
        "*   **Kod Açıklaması:**\n",
        "\n",
        "    *   `bgf.predict(t, frequency, recency, T)`: BG/NBD modelinin tahmin fonksiyonudur.\n",
        "        *   `t`: Tahmin yapılmak istenen gelecekteki zaman dilimi (hafta cinsinden).\n",
        "        *   `frequency`: Her müşterinin geçmişteki toplam sipariş sayısı.\n",
        "        *   `recency`: Her müşterinin ilk ve son siparişi arasındaki süre (hafta cinsinden).\n",
        "        *   `T`: Her müşterinin ilk siparişi ile analiz tarihi arasındaki toplam süre (hafta cinsinden).\n",
        "\n",
        "    *   `cltv_df[\"exp_sales_3_month\"] = bgf.predict(4*3, ...)`: Bu satır, her müşteri için sonraki 3 ay (4 hafta/ay * 3 ay = 12 hafta) içindeki beklenen satın alma sayısını tahmin eder ve bu tahminleri `cltv_df` DataFrame'ine \"exp_sales_3_month\" adında yeni bir sütun olarak ekler.\n",
        "    *   `cltv_df[\"exp_sales_6_month\"] = bgf.predict(4*6, ...)`: Benzer şekilde, bu satır her müşteri için sonraki 6 ay (4 hafta/ay * 6 ay = 24 hafta) içindeki beklenen satın alma sayısını tahmin eder ve \"exp_sales_6_month\" sütununa ekler.\n",
        "\n",
        "Bu tahminler, CLTV hesaplamasının bir parçası olarak müşterinin gelecekteki toplam değerini tahmin etmek için kullanılacaktır."
      ]
    },
    {
      "cell_type": "markdown",
      "source": [
        "---"
      ],
      "metadata": {
        "id": "fqYpV2PpHiRo"
      }
    },
    {
      "cell_type": "code",
      "source": [
        "###############################################################\n",
        "# 2. Gamma-Gamma Modeli\n",
        "###############################################################\n",
        "\n",
        "# Gamma-Gamma modelini başlat\n",
        "# penalizer_coef, aşırı uyumu (overfitting) önlemek için kullanılan bir düzenlileştirme parametresidir.\n",
        "ggf = GammaGammaFitter(penalizer_coef=0.001) # Using 0.001 as in BG/NBD for consistency, or 0.01 as in original code? Let's stick to 0.01 as in the user's provided code.\n",
        "ggf = GammaGammaFitter(penalizer_coef=0.01)\n",
        "\n",
        "# Gamma-Gamma modelini veri setine uygula (fit et)\n",
        "# Model, müşterilerin sıklığı (frequency) ve ortalama işlem değeri (monetary_cltv_avg) verilerini kullanarak parametrelerini öğrenir.\n",
        "# monetary_value: Ortalama işlem değeri sütunu\n",
        "# frequency: Sıklık sütunu\n",
        "ggf.fit(cltv_df['frequency'],\n",
        "        cltv_df['monetary_cltv_avg'])\n",
        "\n",
        "# Gamma-Gamma modelini kullanarak her müşteri için beklenen ortalama işlem değerini tahmin et\n",
        "# conditional_expected_average_profit fonksiyonu, modelin öğrendiği parametreleri ve müşterinin frequency, monetary_cltv_avg değerlerini kullanarak tahmini hesaplar.\n",
        "cltv_df[\"exp_average_value\"] = ggf.conditional_expected_average_profit(cltv_df['frequency'],\n",
        "                                                                       cltv_df['monetary_cltv_avg'])\n",
        "\n",
        "# Model uydurma ve ortalama değer tahmininin tamamlandığını belirten mesaj\n",
        "print(\"\\nGamma-Gamma model fitted and average values predicted!\")\n",
        "\n",
        "###############################################################\n",
        "# 3. 6 aylık CLTV hesaplama\n",
        "###############################################################\n",
        "\n",
        "# BG/NBD ve Gamma-Gamma modellerini kullanarak 6 aylık müşteri yaşam boyu değerini (CLTV) hesapla\n",
        "# customer_lifetime_value fonksiyonu, iki modelin çıktılarını birleştirerek nihai CLTV'yi tahmin eder.\n",
        "cltv = ggf.customer_lifetime_value(bgf, # BG/NBD modeli nesnesi\n",
        "                                   cltv_df['frequency'], # Sıklık sütunu\n",
        "                                   cltv_df['recency_cltv_weekly'], # Recency sütunu (haftalık)\n",
        "                                   cltv_df['T_weekly'], # T sütunu (haftalık)\n",
        "                                   cltv_df['monetary_cltv_avg'], # Ortalama işlem değeri sütunu\n",
        "                                   time=6,  # CLTV'nin hesaplanacağı zaman dilimi (ay cinsinden)\n",
        "                                   freq=\"W\",  # Zaman birimi (Weekly - Haftalık)\n",
        "                                   discount_rate=0.01) # Gelecekteki nakit akışlarının iskonto oranı\n",
        "\n",
        "# Hesaplanan CLTV değerlerini cltv_df DataFrame'ine yeni bir sütun olarak ekle\n",
        "cltv_df[\"cltv\"] = cltv\n",
        "\n",
        "# CLTV hesaplama işleminin tamamlandığını belirten mesaj\n",
        "print(\"\\n6-month CLTV calculated and added!\")\n",
        "\n",
        "# Hesaplanan CLTV değerlerine göre müşterileri sırala ve en yüksek CLTV'ye sahip ilk 20 müşteriyi görüntüle\n",
        "print(\"\\nTop 20 customers by CLTV:\")\n",
        "print(cltv_df.sort_values(\"cltv\", ascending=False).head(20), \"\\n\")"
      ],
      "metadata": {
        "colab": {
          "base_uri": "https://localhost:8080/"
        },
        "id": "nmbHpjsnG7rG",
        "outputId": "ae665bab-b631-4a1d-d1ea-e006e1c22d59"
      },
      "execution_count": null,
      "outputs": [
        {
          "output_type": "stream",
          "name": "stdout",
          "text": [
            "\n",
            "Gamma-Gamma model fitted and average values predicted!\n",
            "\n",
            "6-month CLTV calculated and added!\n",
            "\n",
            "Top 20 customers by CLTV:\n",
            "                                customer_id  recency_cltv_weekly  T_weekly  \\\n",
            "9055   47a642fe-975b-11eb-8c2a-000d3a38a36f                 2.86      7.86   \n",
            "13880  7137a5c0-7aad-11ea-8f20-000d3a38a36f                 6.14     13.14   \n",
            "17323  f59053e2-a503-11e9-a2fc-000d3a38a36f                51.71    101.00   \n",
            "12438  625f40a2-5bd2-11ea-98b0-000d3a38a36f                74.29     74.57   \n",
            "7330   a4d534a2-5b1b-11eb-8dbd-000d3a38a36f                62.71     67.29   \n",
            "8868   9ce6e520-89b0-11ea-a6e7-000d3a38a36f                 3.43     34.43   \n",
            "6402   851de3b4-8f0c-11eb-8cb8-000d3a38a36f                 8.29      9.43   \n",
            "6666   53fe00d4-7b7a-11eb-960b-000d3a38a36f                 9.71     13.00   \n",
            "19538  55d54d9e-8ac7-11ea-8ec0-000d3a38a36f                52.57     58.71   \n",
            "14858  031b2954-6d28-11eb-99c4-000d3a38a36f                14.86     15.57   \n",
            "17963  8fd88976-6708-11ea-9d38-000d3a38a36f                50.29     63.29   \n",
            "15516  9083981a-f59e-11e9-841e-000d3a38a36f                63.57     83.86   \n",
            "6717   40b4f318-9dfb-11eb-9c47-000d3a38a36f                27.14     33.86   \n",
            "4157   7eed6468-4540-11ea-acaf-000d3a38a36f                89.14     90.00   \n",
            "4735   dbabb58e-6312-11ea-a6dc-000d3a38a36f                61.29     64.29   \n",
            "11694  90f1b7f2-bbad-11ea-a0c9-000d3a38a36f                47.29     48.00   \n",
            "11179  d2e74a36-3228-11eb-860c-000d3a38a36f                 1.14     26.29   \n",
            "1853   f02473b0-43c3-11eb-806e-000d3a38a36f                17.29     23.14   \n",
            "5775   e31293ac-d63a-11e9-93bc-000d3a38a36f                91.71     93.14   \n",
            "7312   90befc98-925a-11eb-b584-000d3a38a36f                 4.14      8.86   \n",
            "\n",
            "       frequency  monetary_cltv_avg  exp_sales_3_month  exp_sales_6_month  \\\n",
            "9055           4            1401.80               1.09               2.19   \n",
            "13880         11             758.09               1.97               3.94   \n",
            "17323          7            1106.47               0.72               1.44   \n",
            "12438         16             501.87               1.57               3.13   \n",
            "7330          52             166.22               4.66               9.31   \n",
            "8868           8             601.23               1.27               2.53   \n",
            "6402           2             862.69               0.79               1.59   \n",
            "6666          17             259.87               2.78               5.56   \n",
            "19538         31             228.53               3.08               6.17   \n",
            "14858          3             743.59               0.87               1.74   \n",
            "17963          7             694.20               0.92               1.84   \n",
            "15516          4            1090.36               0.57               1.15   \n",
            "6717           7             544.70               1.16               2.33   \n",
            "4157          27             289.76               2.21               4.43   \n",
            "4735          13             442.12               1.42               2.85   \n",
            "11694          6             647.34               0.93               1.87   \n",
            "11179          3             750.57               0.78               1.56   \n",
            "1853           2             835.88               0.68               1.37   \n",
            "5775           8             727.09               0.83               1.65   \n",
            "7312           6             431.33               1.36               2.73   \n",
            "\n",
            "       exp_average_value    cltv  \n",
            "9055             1449.06 3327.78  \n",
            "13880             767.36 3172.39  \n",
            "17323            1127.61 1708.98  \n",
            "12438             506.17 1662.61  \n",
            "7330              166.71 1628.89  \n",
            "8868              611.49 1623.81  \n",
            "6402              923.68 1538.86  \n",
            "6666              262.07 1529.23  \n",
            "19538             229.61 1485.82  \n",
            "14858             778.05 1423.00  \n",
            "17963             707.69 1362.61  \n",
            "15516            1127.35 1359.44  \n",
            "6717              555.41 1355.44  \n",
            "4157              291.29 1353.53  \n",
            "4735              446.82 1334.83  \n",
            "11694             662.11 1297.52  \n",
            "11179             785.34 1286.14  \n",
            "1853              895.04 1285.23  \n",
            "5775              739.39 1282.58  \n",
            "7312              441.40 1263.19   \n",
            "\n"
          ]
        }
      ]
    },
    {
      "cell_type": "markdown",
      "metadata": {
        "id": "6c5982ce"
      },
      "source": [
        "* * *\n",
        "\n",
        "**Gamma-Gamma Modeli ve CLTV Hesaplama**\n",
        "\n",
        "Bu adımda, müşteri yaşam boyu değerini (CLTV) tahmin etmenin son aşamaları gerçekleştirilmiştir: Gamma-Gamma modelinin kurulması, ortalama işlem değerlerinin tahmin edilmesi ve nihai 6 aylık CLTV değerlerinin hesaplanması.\n",
        "\n",
        "1.  **Gamma-Gamma Modelinin Kurulması (`ggf.fit`)**:\n",
        "    *   Gamma-Gamma modeli, müşterinin gelecekteki her bir işlemi başına düşen ortalama kar veya değeri tahmin etmek için kullanılır.\n",
        "    *   Model, `cltv_df` DataFrame'indeki `frequency` (alışveriş sıklığı) ve `monetary_cltv_avg` (ortalama işlem değeri) sütunlarını kullanarak kurulmuştur.\n",
        "    *   `penalizer_coef=0.01` parametresi, modelin aşırı uyumunu önlemek için kullanılmıştır.\n",
        "\n",
        "2.  **Beklenen Ortalama İşlem Değerinin Tahmin Edilmesi (`ggf.conditional_expected_average_profit`)**:\n",
        "    *   Kurulan Gamma-Gamma modeli kullanılarak, her bir müşteri için gelecekteki işlemlerinden elde edilmesi beklenen ortalama değer (`exp_average_value`) tahmin edilmiştir. Bu tahmin, müşterinin geçmişteki sıklığı ve ortalama harcamasına dayanır.\n",
        "\n",
        "3.  **6 Aylık CLTV'nin Hesaplanması (`ggf.customer_lifetime_value`)**:\n",
        "    *   Nihai Müşteri Yaşam Boyu Değeri (CLTV), BG/NBD modelinden elde edilen beklenen satın alma sayısı ile Gamma-Gamma modelinden elde edilen beklenen ortalama işlem değerinin birleştirilmesiyle hesaplanır.\n",
        "    *   `customer_lifetime_value` fonksiyonu, BG/NBD modeli (`bgf`), `cltv_df` içindeki `frequency`, `recency_cltv_weekly`, `T_weekly`, `monetary_cltv_avg` metrikleri, tahmin süresi (`time=6` ay) ve zaman birimi (`freq=\"W\"` hafta) gibi parametreleri alarak 6 aylık CLTV değerlerini hesaplar.\n",
        "    *   `discount_rate=0.01` gelecekteki nakit akışlarını iskonto etmek için kullanılan orandır.\n",
        "    *   Hesaplanan CLTV değerleri, `cltv_df` DataFrame'ine \"cltv\" adında yeni bir sütun olarak eklenmiştir.\n",
        "\n",
        "Son olarak, en yüksek CLTV değerine sahip müşterileri görmek için DataFrame \"cltv\" sütununa göre azalan şekilde sıralanmış ve ilk 20 müşteri görüntülenmiştir. Bu müşteriler, işletme için en değerli müşteriler olarak değerlendirilebilir ve özel pazarlama stratejileri için hedef grup olabilirler."
      ]
    },
    {
      "cell_type": "markdown",
      "source": [
        "---"
      ],
      "metadata": {
        "id": "PIY_fW74IwBK"
      }
    },
    {
      "cell_type": "markdown",
      "source": [
        "---"
      ],
      "metadata": {
        "id": "utTQIH15I85H"
      }
    },
    {
      "cell_type": "markdown",
      "source": [
        "**GÖREV 4: CLTV'ye GÖRE SEGMENTLERİN OLUŞTURULMASI**"
      ],
      "metadata": {
        "id": "PaJHwtJ7I-Iw"
      }
    },
    {
      "cell_type": "markdown",
      "source": [
        "Bu bölüm, hesaplanan müşteri yaşam boyu değeri (CLTV) metriklerine dayanarak müşterileri farklı segmentlere ayırır."
      ],
      "metadata": {
        "id": "YSofbi5_M2J-"
      }
    },
    {
      "cell_type": "code",
      "source": [
        "###############################################################\n",
        "# 1. Segmentleme (4 gruba ayırma)\n",
        "###############################################################\n",
        "\n",
        "# cltv sütununu çeyrek (quartile) bazında 4 eşit gruba ayırır.\n",
        "# labels=[\"D\", \"C\", \"B\", \"A\"] ile segmentlere D (en düşük CLTV) den A (en yüksek CLTV) ye doğru etiket atar.\n",
        "cltv_df[\"cltv_segment\"] = pd.qcut(cltv_df[\"cltv\"], 4, labels=[\"D\", \"C\", \"B\", \"A\"])\n",
        "print(\"\\nCustomers segmented into 4 groups (A-D).\")\n",
        "\n",
        "# Oluşturulan segmentlerin dağılımını (her segmentteki müşteri sayısı) göster\n",
        "print(\"\\nSegment distribution:\")\n",
        "print(cltv_df[\"cltv_segment\"].value_counts())\n",
        "\n",
        "# Segmentlenmiş DataFrame'in ilk birkaç satırını görüntüle\n",
        "print(\"\\nSample of segmented customers:\\n\")\n",
        "print(cltv_df.head())"
      ],
      "metadata": {
        "colab": {
          "base_uri": "https://localhost:8080/"
        },
        "id": "-FqB96hOI9zL",
        "outputId": "36617250-fed9-4325-fc6e-6de7214763b6"
      },
      "execution_count": null,
      "outputs": [
        {
          "output_type": "stream",
          "name": "stdout",
          "text": [
            "\n",
            "Customers segmented into 4 groups (A-D).\n",
            "\n",
            "Segment distribution:\n",
            "cltv_segment\n",
            "D    4987\n",
            "C    4986\n",
            "B    4986\n",
            "A    4986\n",
            "Name: count, dtype: int64\n",
            "\n",
            "Sample of segmented customers:\n",
            "\n",
            "                            customer_id  recency_cltv_weekly  T_weekly  \\\n",
            "0  cc294636-19f0-11eb-8d74-000d3a38a36f                17.00     30.57   \n",
            "1  f431bd5a-ab7b-11e9-a2fc-000d3a38a36f               209.86    224.86   \n",
            "2  69b69676-1a40-11ea-941b-000d3a38a36f                52.29     78.86   \n",
            "3  1854e56c-491f-11eb-806e-000d3a38a36f                 1.57     20.86   \n",
            "4  d6ea1074-f1f5-11e9-9346-000d3a38a36f                83.14     95.43   \n",
            "\n",
            "   frequency  monetary_cltv_avg  exp_sales_3_month  exp_sales_6_month  \\\n",
            "0          5             187.87               0.97               1.95   \n",
            "1         21              95.88               0.98               1.97   \n",
            "2          5             117.06               0.67               1.34   \n",
            "3          2              60.98               0.70               1.40   \n",
            "4          2             104.99               0.40               0.79   \n",
            "\n",
            "   exp_average_value   cltv cltv_segment  \n",
            "0             193.63 395.73            A  \n",
            "1              96.67 199.43            B  \n",
            "2             120.97 170.22            B  \n",
            "3              67.32  98.95            D  \n",
            "4             114.33  95.01            D  \n"
          ]
        }
      ]
    },
    {
      "cell_type": "markdown",
      "metadata": {
        "id": "2f69b1c8"
      },
      "source": [
        "* * *\n",
        "\n",
        "**CLTV'ye Göre Segmentlerin Oluşturulması**\n",
        "\n",
        "Bu adımda, hesaplanan 6 aylık Müşteri Yaşam Boyu Değeri (CLTV) metrikleri kullanılarak müşteriler farklı segmentlere ayrılmıştır. Bu segmentasyon, pazarlama stratejilerinin daha etkili bir şekilde hedeflenmesine olanak tanır.\n",
        "\n",
        "*   **Segmentasyon Yöntemi:** Müşteriler, `cltv` değerlerine göre çeyrek (quartile) bazında 4 eşit gruba ayrılmıştır.\n",
        "    *   `pd.qcut(cltv_df[\"cltv\"], 4, labels=[\"D\", \"C\", \"B\", \"A\"])` kodu, `cltv` sütununu alır ve veriyi dört eşit parçaya böler.\n",
        "    *   `labels=[\"D\", \"C\", \"B\", \"A\"]` parametresi, en düşük CLTV değerine sahip çeyreği \"D\" segmenti, bir sonraki çeyreği \"C\", sonraki çeyreği \"B\" ve en yüksek CLTV değerine sahip çeyreği \"A\" segmenti olarak etiketler. Bu etiketleme, \"A\" segmentinin en değerli müşterileri temsil etmesini sağlar.\n",
        "\n",
        "*   **Sonuç:** Oluşturulan segmentler, `cltv_df` DataFrame'ine \"cltv_segment\" adında yeni bir sütun olarak eklenmiştir. Segmentlerin dağılımına bakıldığında, her segmentin yaklaşık olarak eşit sayıda müşteri içerdiği görülmektedir (çeyrek bazında ayırma yapıldığı için beklenildiği gibi).\n",
        "\n",
        "Bu segmentasyon, farklı müşteri gruplarının ihtiyaçlarını ve değerlerini anlamak için bir temel oluşturur ve bu gruplara yönelik özelleştirilmiş pazarlama ve iletişim stratejileri geliştirmeye yardımcı olur."
      ]
    },
    {
      "cell_type": "markdown",
      "source": [
        "---"
      ],
      "metadata": {
        "id": "3M5HZM0fKqWY"
      }
    },
    {
      "cell_type": "markdown",
      "source": [
        "---"
      ],
      "metadata": {
        "id": "sVoJoO9iKrAa"
      }
    },
    {
      "cell_type": "markdown",
      "source": [
        "**BONUS: TÜM SÜRECİ FONKSİYONLAŞTIRMA**"
      ],
      "metadata": {
        "id": "-AfkdkkgIbOU"
      }
    },
    {
      "cell_type": "markdown",
      "source": [
        "Bu bölüm, projenin tüm adımlarını (veri hazırlığı, modelleme, CLTV hesaplama ve segmentasyon) tek bir fonksiyon altında birleştirerek sürecin yeniden kullanılabilir ve daha kolay yönetilebilir hale gelmesini sağlar."
      ],
      "metadata": {
        "id": "LdrDqMK2KvNQ"
      }
    },
    {
      "cell_type": "code",
      "source": [
        "# Tüm CLTV Sürecini Fonksiyonlaştırma\n",
        "def create_cltv_df(dataframe):\n",
        "    # 1. Aykırı değerleri baskılama\n",
        "    columns = [\"order_num_total_ever_online\", \"order_num_total_ever_offline\",\n",
        "               \"customer_value_total_ever_offline\", \"customer_value_total_ever_online\"]\n",
        "    for col in columns:\n",
        "        replace_with_thresholds(dataframe, col)\n",
        "\n",
        "    # 2. Yeni değişkenler oluşturma (Toplam sipariş ve toplam harcama)\n",
        "    dataframe[\"order_num_total\"] = dataframe[\"order_num_total_ever_online\"] + dataframe[\"order_num_total_ever_offline\"]\n",
        "    dataframe[\"customer_value_total\"] = dataframe[\"customer_value_total_ever_offline\"] + dataframe[\"customer_value_total_ever_online\"]\n",
        "\n",
        "    # 3. Tarih sütunlarını datetime formatına dönüştürme\n",
        "    date_columns = dataframe.columns[dataframe.columns.str.contains(\"date\")]\n",
        "    dataframe[date_columns] = dataframe[date_columns].apply(pd.to_datetime)\n",
        "\n",
        "    # 4. Analiz tarihi belirleme\n",
        "    analysis_date = dt.datetime(2021, 6, 1)\n",
        "\n",
        "    # 5. CLTV veri yapısı oluşturma (recency, T, frequency, monetary)\n",
        "    cltv_df = pd.DataFrame()\n",
        "    cltv_df[\"customer_id\"] = dataframe[\"master_id\"]\n",
        "    cltv_df[\"recency_cltv_weekly\"] = ((dataframe[\"last_order_date\"] - dataframe[\"first_order_date\"]).dt.days) / 7\n",
        "    cltv_df[\"T_weekly\"] = ((analysis_date - dataframe[\"first_order_date\"]).dt.days) / 7\n",
        "    cltv_df[\"frequency\"] = dataframe[\"order_num_total\"]\n",
        "    cltv_df[\"monetary_cltv_avg\"] = dataframe[\"customer_value_total\"] / dataframe[\"order_num_total\"]\n",
        "\n",
        "    # Frequency değeri 1'den büyük olan müşterileri filtrele (Model gereksinimi)\n",
        "    cltv_df = cltv_df[(cltv_df['frequency'] > 1)]\n",
        "\n",
        "    # Frequency sütununu integer'a dönüştür (Model gereksinimi)\n",
        "    cltv_df['frequency'] = cltv_df['frequency'].astype(int)\n",
        "\n",
        "\n",
        "    # 6. BG-NBD Modeli kurma ve tahmin\n",
        "    bgf = BetaGeoFitter(penalizer_coef=0.001)\n",
        "    bgf.fit(cltv_df['frequency'],\n",
        "            cltv_df['recency_cltv_weekly'],\n",
        "            cltv_df['T_weekly'])\n",
        "    cltv_df[\"exp_sales_3_month\"] = bgf.predict(4*3,\n",
        "                                               cltv_df['frequency'],\n",
        "                                               cltv_df['recency_cltv_weekly'],\n",
        "                                               cltv_df['T_weekly'])\n",
        "    cltv_df[\"exp_sales_6_month\"] = bgf.predict(4*6,\n",
        "                                               cltv_df['frequency'],\n",
        "                                               cltv_df['recency_cltv_weekly'],\n",
        "                                               cltv_df['T_weekly'])\n",
        "\n",
        "    # 7. Gamma-Gamma Modeli kurma ve tahmin\n",
        "    ggf = GammaGammaFitter(penalizer_coef=0.01)\n",
        "    # Monetary değerlerinin pozitif olduğunu kontrol etmeden fit ediliyor (varsayım kontrolü yapılabilir)\n",
        "    ggf.fit(cltv_df['frequency'], cltv_df['monetary_cltv_avg'])\n",
        "    cltv_df[\"exp_average_value\"] = ggf.conditional_expected_average_profit(cltv_df['frequency'],\n",
        "                                                                           cltv_df['monetary_cltv_avg'])\n",
        "\n",
        "    # 8. CLTV Hesaplama (6 aylık)\n",
        "    cltv = ggf.customer_lifetime_value(bgf,\n",
        "                                       cltv_df['frequency'],\n",
        "                                       cltv_df['recency_cltv_weekly'],\n",
        "                                       cltv_df['T_weekly'],\n",
        "                                       cltv_df['monetary_cltv_avg'],\n",
        "                                       time=6,\n",
        "                                       freq=\"W\",\n",
        "                                       discount_rate=0.01)\n",
        "    cltv_df[\"cltv\"] = cltv\n",
        "\n",
        "    # 9. Segmentleme (4 gruba ayırma)\n",
        "    cltv_df[\"cltv_segment\"] = pd.qcut(cltv_df[\"cltv\"], 4, labels=[\"D\", \"C\", \"B\", \"A\"])\n",
        "\n",
        "    return cltv_df\n",
        "\n",
        "# Fonksiyonu çağırma ve sonucu bir değişkene atama\n",
        "cltv_result = create_cltv_df(df)\n",
        "print(\"\\nCLTV process completed successfully!\\n\")\n",
        "print(cltv_result.head())"
      ],
      "metadata": {
        "colab": {
          "base_uri": "https://localhost:8080/"
        },
        "id": "2fppIBU1KuNc",
        "outputId": "a83c66ae-38b0-4db0-e6ee-1abd268af262"
      },
      "execution_count": null,
      "outputs": [
        {
          "output_type": "stream",
          "name": "stderr",
          "text": [
            "/usr/local/lib/python3.11/dist-packages/pandas/core/arraylike.py:399: RuntimeWarning: invalid value encountered in sqrt\n",
            "  result = getattr(ufunc, method)(*inputs, **kwargs)\n"
          ]
        },
        {
          "output_type": "stream",
          "name": "stdout",
          "text": [
            "\n",
            "CLTV process completed successfully!\n",
            "\n",
            "                            customer_id  recency_cltv_weekly  T_weekly  \\\n",
            "0  cc294636-19f0-11eb-8d74-000d3a38a36f                17.00     30.57   \n",
            "1  f431bd5a-ab7b-11e9-a2fc-000d3a38a36f               209.86    224.86   \n",
            "2  69b69676-1a40-11ea-941b-000d3a38a36f                52.29     78.86   \n",
            "3  1854e56c-491f-11eb-806e-000d3a38a36f                 1.57     20.86   \n",
            "4  d6ea1074-f1f5-11e9-9346-000d3a38a36f                83.14     95.43   \n",
            "\n",
            "   frequency  monetary_cltv_avg  exp_sales_3_month  exp_sales_6_month  \\\n",
            "0          5             187.87               0.97               1.95   \n",
            "1         21              95.88               0.98               1.97   \n",
            "2          5             117.06               0.67               1.34   \n",
            "3          2              60.98               0.70               1.40   \n",
            "4          2             104.99               0.40               0.79   \n",
            "\n",
            "   exp_average_value   cltv cltv_segment  \n",
            "0             193.63 395.73            A  \n",
            "1              96.67 199.43            B  \n",
            "2             120.97 170.22            B  \n",
            "3              67.32  98.95            D  \n",
            "4             114.33  95.01            D  \n"
          ]
        }
      ]
    },
    {
      "cell_type": "markdown",
      "metadata": {
        "id": "772fe837"
      },
      "source": [
        "* * *\n",
        "\n",
        "**BONUS: Tüm CLTV Sürecinin Fonksiyonlaştırılması**\n",
        "\n",
        "Bu adımda, daha önceki görevlerde adım adım gerçekleştirdiğimiz tüm CLTV hesaplama ve segmentasyon sürecini tek bir Python fonksiyonu (`create_cltv_df`) içine alınmıştır. Bu fonksiyon, veri setini girdi olarak alır ve işlenmiş, CLTV değerleri hesaplanmış ve segmentlere ayrılmış bir DataFrame döndürür.\n",
        "\n",
        "Fonksiyonun temel adımları şunlardır:\n",
        "\n",
        "1.  Aykırı değerlerin belirlenen eşiklerle değiştirilmesi (`replace_with_thresholds` fonksiyonu kullanılarak).\n",
        "2.  Toplam sipariş sayısı (`order_num_total`) ve toplam harcama değeri (`customer_value_total`) gibi yeni değişkenlerin oluşturulması.\n",
        "3.  Tarih sütunlarının datetime formatına dönüştürülmesi.\n",
        "4.  CLTV hesaplamaları için gerekli temel metrikleri (`recency_cltv_weekly`, `T_weekly`, `frequency`, `monetary_cltv_avg`) içeren `cltv_df` DataFrame'inin oluşturulması.\n",
        "5.  Modelleme gereksinimlerine uyması için `cltv_df` DataFrame'inin filtrelenmesi (frequency > 0 olan müşteriler gibi) ve `frequency` sütununun integer tipine dönüştürülmesi.\n",
        "6.  BG/NBD modelinin uydurulması ve gelecekteki satın alma sayılarının tahmin edilmesi (3 ve 6 aylık).\n",
        "7.  Gamma-Gamma modelinin uydurulması ve beklenen ortalama işlem değerlerinin tahmin edilmesi.\n",
        "8.  BG/NBD ve Gamma-Gamma modellerinin çıktıları kullanılarak nihai 6 aylık CLTV değerlerinin hesaplanması.\n",
        "9.  Hesaplanan CLTV değerlerine göre müşterilerin segmentlere ayrılması (4 farklı gruba).\n",
        "\n",
        "Bu fonksiyonlaştırma, CLTV analizini farklı veri setleri üzerinde veya farklı zamanlarda kolayca tekrarlanabilir hale getirir, kodun düzenliliğini ve yeniden kullanılabilirliğini artırır. Kod bloğunun son kısmında, tanımlanan bu fonksiyon, orijinal `df` DataFrame'i üzerinde çağrılarak sonuç `cltv_result` değişkenine atanmış ve ilk birkaç satırı yazdırılmıştır."
      ]
    },
    {
      "cell_type": "markdown",
      "metadata": {
        "id": "88404a00"
      },
      "source": [
        "* * *"
      ]
    },
    {
      "cell_type": "markdown",
      "metadata": {
        "id": "90f34058"
      },
      "source": [
        "* * *"
      ]
    },
    {
      "cell_type": "markdown",
      "metadata": {
        "id": "63f027fe"
      },
      "source": [
        "# Projenin Sonuçları, Faydaları ve Kullanılan Beceriler"
      ]
    },
    {
      "cell_type": "markdown",
      "source": [
        "Bu proje kapsamında, FLO müşterilerinin geçmiş alışveriş davranışları analiz edilerek Müşteri Yaşam Boyu Değeri (CLTV) tahmin edildi ve müşteriler bu değere göre segmentlere ayrıldı."
      ],
      "metadata": {
        "id": "E31lp-BoONVg"
      }
    },
    {
      "cell_type": "markdown",
      "metadata": {
        "id": "b60c3c88"
      },
      "source": [
        "**Projenin Sonuçları:**\n",
        "\n",
        "*   Müşterilerin Recency, Frequency ve Monetary metrikleri hesaplandı.\n",
        "*   BG/NBD modeli kullanılarak müşterilerin gelecekteki satın alma sayıları tahmin edildi.\n",
        "*   Gamma-Gamma modeli kullanılarak müşterilerin ortalama işlem değerleri tahmin edildi.\n",
        "*   Bu iki modelin çıktıları birleştirilerek her müşterinin 6 aylık CLTV değeri hesaplandı.\n",
        "*   CLTV değerlerine göre müşteriler 4 farklı segmente (A, B, C, D) ayrıldı.\n",
        "\n",
        "---\n",
        "**Projenin Faydaları:**\n",
        "\n",
        "*   **Hedeflenmiş Pazarlama:** CLTV segmentasyonu sayesinde, farklı müşteri gruplarına yönelik özelleştirilmiş pazarlama kampanyaları oluşturulabilir. Örneğin, yüksek CLTV'ye sahip \"A\" segmentindeki müşterilere sadakat programları veya özel teklifler sunularak bu müşterilerin elde tutulması sağlanabilir. Düşük CLTV'ye sahip \"D\" segmentindeki müşterilere ise yeniden aktivasyon kampanyaları düzenlenebilir.\n",
        "*   **Kaynak Optimizasyonu:** Pazarlama bütçesi ve diğer kaynaklar, en değerli veya en potansiyelli segmentlere odaklanarak daha verimli kullanılabilir.\n",
        "*   **Müşteri İlişkileri Yönetimi (CRM):** Müşterilerin yaşam boyu değerini anlamak, daha güçlü müşteri ilişkileri kurmaya ve müşteri memnuniyetini artırmaya yardımcı olur.\n",
        "*   **İş Kararları:** CLTV tahminleri, ürün geliştirme, fiyatlandırma stratejileri ve müşteri edinme maliyetleri gibi konularda daha bilinçli iş kararları alınmasını destekler.\n",
        "\n",
        "---\n",
        "**Kullanılan Beceriler ve Teknolojiler:**\n",
        "\n",
        "*   **Python Programlama Dili:** Veri işleme, analiz ve modelleme adımları için kullanılmıştır.\n",
        "*   **Pandas Kütüphanesi:** Veri manipülasyonu ve DataFrame işlemleri için kullanılmıştır.\n",
        "*   **Datetime Kütüphanesi:** Tarih ve saat verileriyle çalışmak için kullanılmıştır.\n",
        "*   **Lifetimes Kütüphanesi:** BG/NBD ve Gamma-Gamma modelleri ile CLTV tahmini için kullanılmıştır.\n",
        "*   **Scikit-learn Kütüphanesi (MinMaxScaler):** Sayısal değişkenleri ölçeklendirme (bu projede kullanılmadı ancak potansiyel bir adımdır) gibi makine öğrenimi hazırlık adımları için.\n",
        "*   **Veri Temizleme ve Ön İşleme:** Aykırı değerlerin tespiti ve baskılanması gibi veri hazırlık teknikleri uygulanmıştır.\n",
        "*   **Özellik Mühendisliği:** Mevcut değişkenlerden yeni anlamlı değişkenler (toplam sipariş, toplam harcama) oluşturulmuştur.\n",
        "*   **İstatistiksel Modelleme:** BG/NBD ve Gamma-Gamma gibi istatistiksel modeller kullanılarak müşteri davranışları tahmin edilmiştir.\n",
        "*   **Müşteri Segmentasyonu:** CLTV değerlerine dayanarak müşteriler anlamlı gruplara ayrılmıştır.\n",
        "*   **Veri Analizi ve Yorumlama:** Hesaplanan metrikler ve oluşturulan segmentler yorumlanarak işe yarar içgörüler elde edilmiştir.\n",
        "*   **Fonksiyonel Programlama:** Kodun tekrar kullanılabilirliğini artırmak için tüm sürecin bir fonksiyon içine alınması.\n",
        "\n",
        "Bu proje, veri odaklı pazarlama stratejileri geliştirmek ve müşteri değerini maksimize etmek için CLTV analizinin nasıl kullanılacağına dair kapsamlı bir örnek sunmaktadır."
      ]
    }
  ]
}